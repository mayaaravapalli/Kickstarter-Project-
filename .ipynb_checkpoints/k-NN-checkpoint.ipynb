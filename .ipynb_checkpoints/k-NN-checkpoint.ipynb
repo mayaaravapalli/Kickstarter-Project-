{
 "cells": [
  {
   "cell_type": "markdown",
   "metadata": {},
   "source": [
    "### Importing Packages and Libraries "
   ]
  },
  {
   "cell_type": "code",
   "execution_count": 2,
   "metadata": {},
   "outputs": [],
   "source": [
    "# To write a Python 2/3 compatible codebase, the first step is to add this line to the top of each module\n",
    "from __future__ import division, print_function, unicode_literals\n",
    "\n",
    "import pandas as pd \n",
    "import numpy as np \n",
    "import seaborn as sns \n",
    "from matplotlib import pyplot as plt  \n",
    "\n",
    "#for KNN\n",
    "from sklearn import neighbors\n",
    "\n",
    "np.random.seed(42)"
   ]
  },
  {
   "cell_type": "markdown",
   "metadata": {},
   "source": [
    "### Loading the Dataset"
   ]
  },
  {
   "cell_type": "code",
   "execution_count": 3,
   "metadata": {},
   "outputs": [],
   "source": [
    "kick = pd.read_csv('C:/Users/mayaa/OneDrive/Documents/project_BA/Kickstarter-Project-/kick20k_new.csv', index_col = None)"
   ]
  },
  {
   "cell_type": "code",
   "execution_count": 12,
   "metadata": {},
   "outputs": [
    {
     "name": "stdout",
     "output_type": "stream",
     "text": [
      "['ID', 'usd_goal_real', 'diff_days', 'deadline_year', 'deadline_month', 'deadline_day', 'deadline_weekday', 'launched_year', 'launched_month', 'launched_day', 'launched_weekday', 'launched_hour', 'country_recoded', 'main_category_recoded', 'subcategory_recoded', 'name_length', 'recoded_target']\n"
     ]
    }
   ],
   "source": [
    "#checking the dataset \n",
    "kick.head() \n",
    "print(list(kick))"
   ]
  },
  {
   "cell_type": "markdown",
   "metadata": {},
   "source": [
    "##### Removing the One NA Value \n",
    "We had originally not included name length in our data, so when we created the column, our sample had one of 3 NA values so we have to remove it "
   ]
  },
  {
   "cell_type": "code",
   "execution_count": 13,
   "metadata": {},
   "outputs": [
    {
     "data": {
      "text/plain": [
       "False"
      ]
     },
     "execution_count": 13,
     "metadata": {},
     "output_type": "execute_result"
    }
   ],
   "source": [
    "kick.isna().sum()\n",
    "kick = kick.dropna()\n",
    "\n",
    "kick.head()\n",
    "kick.isna().sum()\n",
    "\n",
    "kick['name_length']=kick['name_length'].round(1)\n",
    "\n",
    "kick.isna().sum()\n",
    "\n",
    "kick['name_length'] = kick['name_length'].astype(int)\n",
    "kick.isnull().values.any()"
   ]
  },
  {
   "cell_type": "markdown",
   "metadata": {},
   "source": [
    "### Model Building"
   ]
  },
  {
   "cell_type": "markdown",
   "metadata": {},
   "source": [
    "##### Setting the target and features"
   ]
  },
  {
   "cell_type": "code",
   "execution_count": 14,
   "metadata": {},
   "outputs": [],
   "source": [
    "# Retrieve features/attributes of dataset\n",
    "X = kick.iloc[:, 1:16]\n",
    "\n",
    "# Retrieve target variable of dataset\n",
    "y = kick.iloc[:,16]"
   ]
  },
  {
   "cell_type": "markdown",
   "metadata": {},
   "source": [
    "##### Splitting the dataset into 70% training, 30% testing "
   ]
  },
  {
   "cell_type": "code",
   "execution_count": 15,
   "metadata": {},
   "outputs": [],
   "source": [
    "from sklearn.model_selection import train_test_split\n",
    "\n",
    "X_train, X_test, y_train, y_test = train_test_split(\n",
    "    X, y, test_size=0.3, random_state=42, stratify=y)"
   ]
  },
  {
   "cell_type": "markdown",
   "metadata": {},
   "source": [
    "##### Distribution of the target variable"
   ]
  },
  {
   "cell_type": "code",
   "execution_count": 16,
   "metadata": {},
   "outputs": [
    {
     "name": "stdout",
     "output_type": "stream",
     "text": [
      "Labels counts in y: [11851  8148]\n",
      "Labels counts in y_train: [8296 5703]\n",
      "Labels counts in y_test: [3555 2445]\n"
     ]
    }
   ],
   "source": [
    "print('Labels counts in y:', np.bincount(y))\n",
    "print('Labels counts in y_train:', np.bincount(y_train))\n",
    "print('Labels counts in y_test:', np.bincount(y_test))"
   ]
  },
  {
   "cell_type": "markdown",
   "metadata": {},
   "source": [
    "##### Normalization"
   ]
  },
  {
   "cell_type": "code",
   "execution_count": 17,
   "metadata": {},
   "outputs": [],
   "source": [
    "from sklearn.preprocessing import StandardScaler # Standardize features by removing the mean and scaling to unit variance\n",
    "\n",
    "sc = StandardScaler()\n",
    "sc.fit(X_train) # Compute the mean and std to be used for later scaling.\n",
    "\n",
    "X_train_std = sc.transform(X_train) # Perform standardization of train set X by centering and scaling\n",
    "X_test_std = sc.transform(X_test) # Perform standardization of test set Xby centering and scaling"
   ]
  },
  {
   "cell_type": "markdown",
   "metadata": {},
   "source": [
    "##### Training the Model"
   ]
  },
  {
   "cell_type": "code",
   "execution_count": 18,
   "metadata": {},
   "outputs": [],
   "source": [
    "# Set parameters of KNeighborsClassifier\n",
    "knn = neighbors.KNeighborsClassifier(n_neighbors=5, #n_neighbors is the k in the kNN\n",
    "                           p=2, \n",
    "                           metric='minkowski') #The default metric is minkowski, which is a generalization of the Euclidean distance\n",
    "                                               # with p=2 is equivalent to the standard Euclidean distance.\n",
    "                                               # with p=1 is equivalent to the Mahattan distance.\n",
    "\n",
    "# Train the model      \n",
    "knn = knn.fit(X_train_std, y_train)  "
   ]
  },
  {
   "cell_type": "markdown",
   "metadata": {},
   "source": [
    "##### Evaluating the simple model "
   ]
  },
  {
   "cell_type": "code",
   "execution_count": 19,
   "metadata": {},
   "outputs": [
    {
     "name": "stdout",
     "output_type": "stream",
     "text": [
      "Accuracy (out-of-sample): 0.59\n",
      "Accuracy (in-sample): 0.73\n",
      "F1 score (out-of-sample):  0.5596104462815236\n",
      "F1 score (in-sample)    :  0.7119669538828828\n",
      "              precision    recall  f1-score   support\n",
      "\n",
      "     success       0.64      0.70      0.67      3555\n",
      "     failure       0.49      0.42      0.45      2445\n",
      "\n",
      "    accuracy                           0.59      6000\n",
      "   macro avg       0.56      0.56      0.56      6000\n",
      "weighted avg       0.58      0.59      0.58      6000\n",
      "\n"
     ]
    }
   ],
   "source": [
    "from sklearn.metrics import accuracy_score, f1_score, classification_report\n",
    "\n",
    "# Estimate the predicted values by applying the kNN algorithm\n",
    "y_pred = knn.predict(X_test_std)\n",
    "y_pred_insample = knn.predict(X_train_std)\n",
    "\n",
    "# Accuracy\n",
    "print('Accuracy (out-of-sample): %.2f' % accuracy_score(y_test, y_pred))\n",
    "print('Accuracy (in-sample): %.2f' % accuracy_score(y_train, y_pred_insample))\n",
    "\n",
    "# F1 score\n",
    "print('F1 score (out-of-sample): ', f1_score(y_test, y_pred, average='macro'))\n",
    "print('F1 score (in-sample)    : ', f1_score(y_train, y_pred_insample, average='macro'))\n",
    "\n",
    "# Build a text report showing the main classification metrics (out-of-sample performance)\n",
    "print(classification_report(y_test, y_pred, target_names=['success', 'failure']))"
   ]
  },
  {
   "cell_type": "markdown",
   "metadata": {},
   "source": [
    "##### Learning Curve Function"
   ]
  },
  {
   "cell_type": "code",
   "execution_count": 20,
   "metadata": {},
   "outputs": [],
   "source": [
    "############################## Function for Learning Curves ##############################\n",
    "\n",
    "def plot_learning_curve(estimator, title, X, y, ylim=None, cv=None,\n",
    "                        n_jobs=1, train_sizes=np.linspace(.1, 1.0, 5)):\n",
    "    \"\"\"\n",
    "    Generate a simple plot of the test and training learning curve.\n",
    "\n",
    "    Parameters\n",
    "    ----------\n",
    "    estimator : object type that implements the \"fit\" and \"predict\" methods\n",
    "        An object of that type which is cloned for each validation.\n",
    "\n",
    "    title : string\n",
    "        Title for the chart.\n",
    "\n",
    "    X : array-like, shape (n_samples, n_features)\n",
    "        Training vector, where n_samples is the number of samples and\n",
    "        n_features is the number of features.\n",
    "\n",
    "    y : array-like, shape (n_samples) or (n_samples, n_features), optional\n",
    "        Target relative to X for classification or regression;\n",
    "        None for unsupervised learning.\n",
    "\n",
    "    ylim : tuple, shape (ymin, ymax), optional\n",
    "        Defines minimum and maximum yvalues plotted.\n",
    "\n",
    "    cv : int, cross-validation generator or an iterable, optional\n",
    "        Determines the cross-validation splitting strategy.\n",
    "        Possible inputs for cv are:\n",
    "          - None, to use the default 3-fold cross-validation,\n",
    "          - integer, to specify the number of folds.\n",
    "          - An object to be used as a cross-validation generator.\n",
    "          - An iterable yielding train/test splits.\n",
    "\n",
    "        For integer/None inputs, if ``y`` is binary or multiclass,\n",
    "        :class:`StratifiedKFold` used. If the estimator is not a classifier\n",
    "        or if ``y`` is neither binary nor multiclass, :class:`KFold` is used.\n",
    "\n",
    "        Refer :ref:`User Guide <cross_validation>` for the various\n",
    "        cross-validators that can be used here.\n",
    "\n",
    "    n_jobs : integer, optional\n",
    "        Number of jobs to run in parallel (default 1).\n",
    "    \"\"\"\n",
    "    plt.figure()                    #display figure\n",
    "    plt.title(title)\n",
    "    if ylim is not None:\n",
    "        plt.ylim(*ylim)\n",
    "    plt.xlabel(\"Training examples\") #y label title\n",
    "    plt.ylabel(\"Score\")             #x label title\n",
    "    \n",
    "    # Class learning_curve determines cross-validated training and test scores for different training set sizes\n",
    "    train_sizes, train_scores, test_scores = learning_curve(\n",
    "        estimator, X, y, cv=cv, n_jobs=n_jobs, train_sizes=train_sizes)\n",
    "    \n",
    "    # Cross validation statistics for training and testing data (mean and standard deviation)\n",
    "    train_scores_mean = np.mean(train_scores, axis=1) # Compute the arithmetic mean along the specified axis.\n",
    "    train_scores_std = np.std(train_scores, axis=1)   # Compute the standard deviation along the specified axis.\n",
    "    test_scores_mean = np.mean(test_scores, axis=1)   # Compute the arithmetic mean along the specified axis.\n",
    "    test_scores_std = np.std(test_scores, axis=1)     # Compute the standard deviation along the specified axis.\n",
    "\n",
    "    plt.grid() # Configure the grid lines\n",
    "\n",
    "    # Fill the area around the line to indicate the size of standard deviations for the training data\n",
    "    # and the test data\n",
    "    plt.fill_between(train_sizes, train_scores_mean - train_scores_std,\n",
    "                     train_scores_mean + train_scores_std, alpha=0.1,\n",
    "                     color=\"#555557\") # train data performance indicated with red\n",
    "    plt.fill_between(train_sizes, test_scores_mean - test_scores_std,\n",
    "                     test_scores_mean + test_scores_std, alpha=0.1, color=\"#7BC043\") # test data performance indicated with green\n",
    "    \n",
    "    # Cross-validation means indicated by dots\n",
    "    # Train data performance indicated with red\n",
    "    plt.plot(train_sizes, train_scores_mean, 'o-', color=\"#555557\",\n",
    "             label=\"Training score\")\n",
    "    # Test data performance indicated with green\n",
    "    plt.plot(train_sizes, test_scores_mean, 'o-', color=\"#7BC043\",\n",
    "             label=\"Cross-validation score\")\n",
    "\n",
    "    plt.legend(loc=\"best\") # Show legend of the plot at the best location possible\n",
    "    return plt             # Function that returns the plot as an output"
   ]
  },
  {
   "cell_type": "markdown",
   "metadata": {},
   "source": [
    "##### Visualizing the Learning Curve"
   ]
  },
  {
   "cell_type": "code",
   "execution_count": 21,
   "metadata": {},
   "outputs": [],
   "source": [
    "#packages for learning curves \n",
    "# Determines cross-validated training and test scores for different training set sizes\n",
    "from sklearn.model_selection import learning_curve \n",
    "# Random permutation cross-validator\n",
    "from sklearn.model_selection import ShuffleSplit\n",
    "# Each pyplot function makes some change to a figure: e.g., creates a figure, creates a plotting area in a figure, \n",
    "# plots some lines in a plotting area, decorates the plot with labels, etc\n",
    "import matplotlib.pyplot as plt"
   ]
  },
  {
   "cell_type": "code",
   "execution_count": 22,
   "metadata": {},
   "outputs": [
    {
     "data": {
      "image/png": "[encoded data removed]",
      "text/plain": [
       "<Figure size 432x288 with 1 Axes>"
      ]
     },
     "metadata": {
      "needs_background": "light"
     },
     "output_type": "display_data"
    }
   ],
   "source": [
    "title = \"Learning Curve (kNN)\"\n",
    "\n",
    "# Plots the learning curve based on the previously defined function for the kNN classifier. Uses the \n",
    "# random permutation cross-validator\n",
    "cv = ShuffleSplit(n_splits=10, test_size=0.3, random_state=42)\n",
    "estimator = neighbors.KNeighborsClassifier() #n_neighbors=5 by default\n",
    "plot_learning_curve(estimator, title, X, y, (0.3, 1.01), cv=cv, n_jobs=4)\n",
    "\n",
    "plt.show() # Display the figure"
   ]
  },
  {
   "cell_type": "markdown",
   "metadata": {},
   "source": [
    "Based on the learning curve above, it seems that the k-NN model is not learning with the increase of training instances. "
   ]
  },
  {
   "cell_type": "markdown",
   "metadata": {},
   "source": [
    "##### Checking the cross validation and Hyperparameter tuning "
   ]
  },
  {
   "cell_type": "markdown",
   "metadata": {},
   "source": [
    "Packages and Libraries to install:"
   ]
  },
  {
   "cell_type": "code",
   "execution_count": 23,
   "metadata": {},
   "outputs": [],
   "source": [
    "import warnings\n",
    "warnings.filterwarnings('ignore')"
   ]
  },
  {
   "cell_type": "code",
   "execution_count": 24,
   "metadata": {},
   "outputs": [],
   "source": [
    "# Evaluate a score by cross-validation\n",
    "from sklearn.model_selection import cross_val_score"
   ]
  },
  {
   "cell_type": "markdown",
   "metadata": {},
   "source": [
    "##### Building a KNN model for cross validation "
   ]
  },
  {
   "cell_type": "code",
   "execution_count": 25,
   "metadata": {},
   "outputs": [],
   "source": [
    "#standardizing the x for cross validation \n",
    "sc2 = StandardScaler()\n",
    "sc2.fit(X)\n",
    "X_s = sc.transform(X)"
   ]
  },
  {
   "cell_type": "code",
   "execution_count": 26,
   "metadata": {},
   "outputs": [],
   "source": [
    "from sklearn.neighbors import KNeighborsClassifier\n",
    "\n",
    "knn_cv = KNeighborsClassifier(n_neighbors=5, #n_neighbors is the k in the kNN\n",
    "                           p=2, \n",
    "                           metric='minkowski')"
   ]
  },
  {
   "cell_type": "markdown",
   "metadata": {},
   "source": [
    "##### Applying Cross Validation to the Model "
   ]
  },
  {
   "cell_type": "code",
   "execution_count": 27,
   "metadata": {},
   "outputs": [
    {
     "name": "stdout",
     "output_type": "stream",
     "text": [
      "Accuracy: 0.59 (+/- 0.02)\n",
      "[0.583      0.5845     0.59       0.5915     0.6045     0.598\n",
      " 0.588      0.588      0.5965     0.56578289]\n",
      "F1-score: 0.56 (+/- 0.02)\n",
      "[0.55590629 0.55876626 0.55928385 0.563682   0.57710926 0.57050869\n",
      " 0.55934651 0.56214511 0.56736634 0.536182  ]\n"
     ]
    }
   ],
   "source": [
    "scores=cross_val_score(knn_cv, X=X_s, y=y, cv=10)\n",
    "print(\"Accuracy: %0.2f (+/- %0.2f)\" % (scores.mean(), scores.std() * 2))\n",
    "print(scores) # print accuracy for each iteration of cross-validation\n",
    "\n",
    "scores_f1=cross_val_score(knn_cv, X=X_s, y=y, cv=10, scoring='f1_macro')\n",
    "print(\"F1-score: %0.2f (+/- %0.2f)\" % (scores_f1.mean(), scores_f1.std() * 2))# returns an array of scores of the estimator for each run of the cross validation.\n",
    "print(scores_f1) # print f1-score for each iteration of cross-validation"
   ]
  },
  {
   "cell_type": "markdown",
   "metadata": {},
   "source": [
    "##### Using Gridsearch to parameter tune"
   ]
  },
  {
   "cell_type": "code",
   "execution_count": 28,
   "metadata": {},
   "outputs": [],
   "source": [
    "from sklearn.model_selection import GridSearchCV, KFold, cross_val_score \n"
   ]
  },
  {
   "cell_type": "markdown",
   "metadata": {},
   "source": [
    "##### Nested Cross Validation "
   ]
  },
  {
   "cell_type": "code",
   "execution_count": 29,
   "metadata": {},
   "outputs": [],
   "source": [
    "np.random.seed(42) # Ensure reproducability\n",
    "\n",
    "# The parameters of the estimator used to apply these methods are optimized by cross-validated \n",
    "# grid-search over a parameter grid.\n",
    "\n",
    "inner_cv = KFold(n_splits=5, shuffle=True)\n",
    "outer_cv = KFold(n_splits=5, shuffle=True)"
   ]
  },
  {
   "cell_type": "markdown",
   "metadata": {},
   "source": [
    "##### Hyperparameter tuning for k-NN "
   ]
  },
  {
   "cell_type": "markdown",
   "metadata": {},
   "source": [
    "F1 measure"
   ]
  },
  {
   "cell_type": "code",
   "execution_count": 30,
   "metadata": {},
   "outputs": [
    {
     "name": "stdout",
     "output_type": "stream",
     "text": [
      "\n",
      " Parameter Tuning #1\n",
      "Non-nested CV f1:  0.4790951795050799\n",
      "Optimal Parameter:  {'n_neighbors': 9}\n",
      "Optimal Estimator:  KNeighborsClassifier(algorithm='auto', leaf_size=30, metric='minkowski',\n",
      "                     metric_params=None, n_jobs=None, n_neighbors=9, p=2,\n",
      "                     weights='uniform')\n",
      "Nested CV f1:  0.4488628502924474  +/-  0.012735578014380295\n",
      "\n",
      " Parameter Tuning #2\n",
      "Non-nested CV f1:  0.47968600772815095\n",
      "Optimal Parameter:  {'n_neighbors': 9, 'weights': 'distance'}\n",
      "Optimal Estimator:  KNeighborsClassifier(algorithm='auto', leaf_size=30, metric='minkowski',\n",
      "                     metric_params=None, n_jobs=None, n_neighbors=9, p=2,\n",
      "                     weights='distance')\n",
      "Nested CV f1:  0.45709225946319465  +/-  0.015744616282127935\n"
     ]
    }
   ],
   "source": [
    "# Choosing k for kNN\n",
    "gs_knn = GridSearchCV(estimator=neighbors.KNeighborsClassifier(p=2, \n",
    "                           metric='minkowski'),\n",
    "                  param_grid=[{'n_neighbors': [1,3,5,7,9,11,13,15,17,19,21]}],\n",
    "                  scoring='f1',\n",
    "                  cv=inner_cv)\n",
    "#print(len(y))\n",
    "gs_knn = gs_knn.fit(X,y) \n",
    "print(\"\\n Parameter Tuning #1\")\n",
    "print(\"Non-nested CV f1: \", gs_knn.best_score_)\n",
    "print(\"Optimal Parameter: \", gs_knn.best_params_)\n",
    "print(\"Optimal Estimator: \", gs_knn.best_estimator_)\n",
    "nested_score_gs_knn = cross_val_score(gs_knn, X=X_s, y=y, cv=outer_cv)\n",
    "print(\"Nested CV f1: \",nested_score_gs_knn.mean(), \" +/- \", nested_score_gs_knn.std())\n",
    " \n",
    "# Choosing k for kNN AND type of distance\n",
    "gs_knn2 = GridSearchCV(estimator=neighbors.KNeighborsClassifier(p=2, \n",
    "                           metric='minkowski'),\n",
    "                  param_grid=[{'n_neighbors': [1,3,5,7,9,11,13,15,17,19,21],\n",
    "                               'weights':['uniform','distance']}],\n",
    "                  scoring='f1',\n",
    "                  cv=inner_cv,\n",
    "                  n_jobs=4)\n",
    "\n",
    "gs_knn2 = gs_knn2.fit(X,y)  \n",
    "print(\"\\n Parameter Tuning #2\")\n",
    "print(\"Non-nested CV f1: \", gs_knn2.best_score_)\n",
    "print(\"Optimal Parameter: \", gs_knn2.best_params_)\n",
    "print(\"Optimal Estimator: \", gs_knn2.best_estimator_) # Estimator that was chosen by the search, i.e. estimator which gave highest score\n",
    "nested_score_gs_knn2 = cross_val_score(gs_knn2, X=X_s, y=y, cv=outer_cv)\n",
    "print(\"Nested CV f1: \",nested_score_gs_knn2.mean(), \" +/- \", nested_score_gs_knn2.std())"
   ]
  },
  {
   "cell_type": "markdown",
   "metadata": {},
   "source": [
    "Accuracy "
   ]
  },
  {
   "cell_type": "code",
   "execution_count": 31,
   "metadata": {},
   "outputs": [
    {
     "name": "stdout",
     "output_type": "stream",
     "text": [
      "\n",
      " Parameter Tuning #3\n",
      "Non-nested CV accuracy:  0.6068800700175043\n",
      "Optimal Parameter:  {'n_neighbors': 21}\n",
      "Optimal Estimator:  KNeighborsClassifier(algorithm='auto', leaf_size=30, metric='minkowski',\n",
      "                     metric_params=None, n_jobs=None, n_neighbors=21, p=2,\n",
      "                     weights='uniform')\n",
      "Nested CV accuracy:  0.6001794698674668  +/-  0.00869632283103476\n",
      "\n",
      " Parameter Tuning #4\n",
      "Non-nested CV accuracy:  0.6075806701675419\n",
      "Optimal Parameter:  {'n_neighbors': 19, 'weights': 'uniform'}\n",
      "Optimal Estimator:  KNeighborsClassifier(algorithm='auto', leaf_size=30, metric='minkowski',\n",
      "                     metric_params=None, n_jobs=None, n_neighbors=19, p=2,\n",
      "                     weights='uniform')\n",
      "Nested CV accuray:  0.6013799449862465  +/-  0.0016621891830724774\n"
     ]
    }
   ],
   "source": [
    "# Choosing k for kNN\n",
    "gs_knn = GridSearchCV(estimator=neighbors.KNeighborsClassifier(p=2, \n",
    "                           metric='minkowski'),\n",
    "                  param_grid=[{'n_neighbors': [1,3,5,7,9,11,13,15,17,19,21]}],\n",
    "                  scoring='accuracy',\n",
    "                  cv=inner_cv)\n",
    "#print(len(y))\n",
    "gs_knn = gs_knn.fit(X,y) \n",
    "print(\"\\n Parameter Tuning #3\")\n",
    "print(\"Non-nested CV accuracy: \", gs_knn.best_score_)\n",
    "print(\"Optimal Parameter: \", gs_knn.best_params_)\n",
    "print(\"Optimal Estimator: \", gs_knn.best_estimator_)\n",
    "nested_score_gs_knn = cross_val_score(gs_knn, X=X_s, y=y, cv=outer_cv)\n",
    "print(\"Nested CV accuracy: \",nested_score_gs_knn.mean(), \" +/- \", nested_score_gs_knn.std())\n",
    " \n",
    "# Choosing k for kNN AND type of distance\n",
    "gs_knn2 = GridSearchCV(estimator=neighbors.KNeighborsClassifier(p=2, \n",
    "                           metric='minkowski'),\n",
    "                  param_grid=[{'n_neighbors': [1,3,5,7,9,11,13,15,17,19,21],\n",
    "                               'weights':['uniform','distance']}],\n",
    "                  scoring='accuracy',\n",
    "                  cv=inner_cv,\n",
    "                  n_jobs=4)\n",
    "\n",
    "gs_knn2 = gs_knn2.fit(X,y)  \n",
    "print(\"\\n Parameter Tuning #4\")\n",
    "print(\"Non-nested CV accuracy: \", gs_knn2.best_score_)\n",
    "print(\"Optimal Parameter: \", gs_knn2.best_params_)\n",
    "print(\"Optimal Estimator: \", gs_knn2.best_estimator_) # Estimator that was chosen by the search, i.e. estimator which gave highest score\n",
    "nested_score_gs_knn2 = cross_val_score(gs_knn2, X=X_s, y=y, cv=outer_cv)\n",
    "print(\"Nested CV accuray: \",nested_score_gs_knn2.mean(), \" +/- \", nested_score_gs_knn2.std())"
   ]
  },
  {
   "cell_type": "markdown",
   "metadata": {},
   "source": [
    "##### Seeing if the Accuracy/F1 scores Improve with Increasing K for Odd Numbers all odd numbers between 1 and 200"
   ]
  },
  {
   "cell_type": "code",
   "execution_count": 71,
   "metadata": {},
   "outputs": [],
   "source": [
    "#https://towardsdatascience.com/k-nearest-neighbors-and-its-optimization-2e3f6797af04\n",
    "#code from above \n",
    "\n",
    "from sklearn.neighbors import KNeighborsClassifier\n",
    "from sklearn.model_selection import cross_val_score\n",
    "# Creating odd list K for KNN\n",
    "neighbors = list(range(1,200,2))\n",
    "# empty list that will hold cv scores\n",
    "cv_scores = [ ]\n",
    "#perform 10-fold cross-validation\n",
    "for K in neighbors:\n",
    "    knn = KNeighborsClassifier(n_neighbors = K)\n",
    "    scores = cross_val_score(knn_cv,X_s,y,cv = 10,scoring =\n",
    "    \"accuracy\")\n",
    "    cv_scores.append(scores.mean())"
   ]
  },
  {
   "cell_type": "code",
   "execution_count": 72,
   "metadata": {},
   "outputs": [],
   "source": [
    "from sklearn.neighbors import KNeighborsClassifier\n",
    "from sklearn.model_selection import cross_val_score\n",
    "# Creating odd list K for KNN\n",
    "neighbors = list(range(1,200,2))\n",
    "# empty list that will hold cv scores\n",
    "cv_scores_2 = [ ]\n",
    "#perform 10-fold cross-validation\n",
    "for K in neighbors:\n",
    "    knn = KNeighborsClassifier(n_neighbors = K)\n",
    "    scores = cross_val_score(knn_cv,X_s,y,cv = 10,scoring =\n",
    "    \"f1\")\n",
    "    cv_scores_2.append(scores.mean())"
   ]
  },
  {
   "cell_type": "markdown",
   "metadata": {},
   "source": [
    "##### Viewing the Scores for Accuracy "
   ]
  },
  {
   "cell_type": "code",
   "execution_count": 49,
   "metadata": {
    "scrolled": true
   },
   "outputs": [
    {
     "data": {
      "text/plain": [
       "[0.5599999999999999,\n",
       " 0.58,\n",
       " 0.599,\n",
       " 0.6038571428571429,\n",
       " 0.6055714285714286,\n",
       " 0.6118571428571429,\n",
       " 0.6124285714285714,\n",
       " 0.6121428571428571,\n",
       " 0.6117142857142857,\n",
       " 0.6115714285714287,\n",
       " 0.6131428571428571,\n",
       " 0.607,\n",
       " 0.6061428571428572,\n",
       " 0.6047142857142856,\n",
       " 0.6044285714285713,\n",
       " 0.6027142857142856,\n",
       " 0.6001428571428572,\n",
       " 0.5968571428571429,\n",
       " 0.5954285714285714,\n",
       " 0.5922857142857143,\n",
       " 0.5951428571428572,\n",
       " 0.5971428571428572,\n",
       " 0.597,\n",
       " 0.5965714285714286,\n",
       " 0.5995714285714286,\n",
       " 0.5998571428571429,\n",
       " 0.5988571428571429,\n",
       " 0.6010000000000001,\n",
       " 0.6021428571428571,\n",
       " 0.601,\n",
       " 0.599,\n",
       " 0.5997142857142858,\n",
       " 0.6027142857142858,\n",
       " 0.601,\n",
       " 0.6005714285714285,\n",
       " 0.6034285714285714,\n",
       " 0.6025714285714285,\n",
       " 0.6027142857142855,\n",
       " 0.6034285714285714,\n",
       " 0.6064285714285713,\n",
       " 0.6044285714285713,\n",
       " 0.6028571428571429,\n",
       " 0.6047142857142858,\n",
       " 0.6054285714285713,\n",
       " 0.6024285714285714,\n",
       " 0.6034285714285714,\n",
       " 0.6045714285714285,\n",
       " 0.6040000000000001,\n",
       " 0.602857142857143,\n",
       " 0.6064285714285713,\n",
       " 0.6051428571428572,\n",
       " 0.6075714285714287,\n",
       " 0.6047142857142858,\n",
       " 0.6085714285714285,\n",
       " 0.6071428571428571,\n",
       " 0.6092857142857142,\n",
       " 0.6088571428571428,\n",
       " 0.6098571428571429,\n",
       " 0.6091428571428572,\n",
       " 0.6081428571428573,\n",
       " 0.6078571428571429,\n",
       " 0.6065714285714287,\n",
       " 0.6078571428571429,\n",
       " 0.6074285714285714,\n",
       " 0.6081428571428573,\n",
       " 0.6061428571428571,\n",
       " 0.6055714285714286,\n",
       " 0.6088571428571428,\n",
       " 0.6084285714285714,\n",
       " 0.6079999999999999,\n",
       " 0.6081428571428571,\n",
       " 0.6068571428571429,\n",
       " 0.6071428571428572,\n",
       " 0.6055714285714285,\n",
       " 0.6067142857142857,\n",
       " 0.6064285714285713,\n",
       " 0.6062857142857142,\n",
       " 0.6085714285714287,\n",
       " 0.6092857142857143,\n",
       " 0.6087142857142858,\n",
       " 0.609,\n",
       " 0.6091428571428572,\n",
       " 0.6111428571428571,\n",
       " 0.6111428571428571,\n",
       " 0.6102857142857143,\n",
       " 0.6095714285714287,\n",
       " 0.6104285714285714,\n",
       " 0.6095714285714287,\n",
       " 0.6100000000000001,\n",
       " 0.611142857142857,\n",
       " 0.6095714285714285,\n",
       " 0.6087142857142857,\n",
       " 0.6095714285714287,\n",
       " 0.61,\n",
       " 0.6107142857142858,\n",
       " 0.607,\n",
       " 0.6084285714285714,\n",
       " 0.6084285714285714,\n",
       " 0.6081428571428572,\n",
       " 0.6061428571428571]"
      ]
     },
     "execution_count": 49,
     "metadata": {},
     "output_type": "execute_result"
    }
   ],
   "source": [
    "cv_scores"
   ]
  },
  {
   "cell_type": "markdown",
   "metadata": {},
   "source": [
    "##### Viewing the scores for f1 "
   ]
  },
  {
   "cell_type": "code",
   "execution_count": 47,
   "metadata": {
    "scrolled": true
   },
   "outputs": [
    {
     "data": {
      "text/plain": [
       "[0.45481407373863625,\n",
       " 0.46702714387902644,\n",
       " 0.4772714425767278,\n",
       " 0.473122208067979,\n",
       " 0.4657051195501449,\n",
       " 0.4636013603503664,\n",
       " 0.46276059939530906,\n",
       " 0.4570162737050298,\n",
       " 0.4542077039375134,\n",
       " 0.4509156018227327,\n",
       " 0.4475538344269528,\n",
       " 0.43845862959872645,\n",
       " 0.4327189701774089,\n",
       " 0.4276052963886787,\n",
       " 0.42682656318365264,\n",
       " 0.4227221232253414,\n",
       " 0.41836916941889635,\n",
       " 0.41265463525654145,\n",
       " 0.4082098270143869,\n",
       " 0.40216999519419466,\n",
       " 0.4048857408163383,\n",
       " 0.4070832991758608,\n",
       " 0.40491292872686946,\n",
       " 0.4007169379812764,\n",
       " 0.4026427447850599,\n",
       " 0.4018072610511232,\n",
       " 0.4025007044991867,\n",
       " 0.4050675924754509,\n",
       " 0.4073214836668334,\n",
       " 0.40355461828943645,\n",
       " 0.40090207279419643,\n",
       " 0.39799813824071123,\n",
       " 0.4010714106327781,\n",
       " 0.39599610615758646,\n",
       " 0.3936716310207849,\n",
       " 0.3961143616265502,\n",
       " 0.38956126022770005,\n",
       " 0.3891322464164287,\n",
       " 0.3901592744741344,\n",
       " 0.39349494412869934,\n",
       " 0.3866970924505691,\n",
       " 0.383491754433925,\n",
       " 0.38498072272726863,\n",
       " 0.38765839854697315,\n",
       " 0.38302668380080496,\n",
       " 0.3840413481984934,\n",
       " 0.3857997363627256,\n",
       " 0.3826542777724933,\n",
       " 0.38099048194087193,\n",
       " 0.38696261043292957,\n",
       " 0.3879692316841028,\n",
       " 0.3917397240246191,\n",
       " 0.39066501684166316,\n",
       " 0.39380143134597795,\n",
       " 0.39072405916798336,\n",
       " 0.39160864648678145,\n",
       " 0.3883996976565477,\n",
       " 0.39079044867167545,\n",
       " 0.38901835327314555,\n",
       " 0.3909034846973,\n",
       " 0.38760131985292656,\n",
       " 0.3867368483130428,\n",
       " 0.3898434340193676,\n",
       " 0.38870722858101525,\n",
       " 0.3913597222465267,\n",
       " 0.3896066817648351,\n",
       " 0.38869907812095184,\n",
       " 0.3920318729439768,\n",
       " 0.3893084164296399,\n",
       " 0.38761472011940096,\n",
       " 0.3852527000956154,\n",
       " 0.38366055419706424,\n",
       " 0.3833116932815494,\n",
       " 0.38181611946422034,\n",
       " 0.383171369630371,\n",
       " 0.38398579499442603,\n",
       " 0.3848326967336722,\n",
       " 0.38839270826739647,\n",
       " 0.39008665338358667,\n",
       " 0.3919289781864918,\n",
       " 0.39196768039708807,\n",
       " 0.39139595856624243,\n",
       " 0.3928691725735158,\n",
       " 0.3931737947470098,\n",
       " 0.39153697912858887,\n",
       " 0.3909341219824717,\n",
       " 0.3928648747345049,\n",
       " 0.3944612588479112,\n",
       " 0.39531242676168654,\n",
       " 0.398965369604913,\n",
       " 0.39642103576307297,\n",
       " 0.39590728519754814,\n",
       " 0.3976599300433608,\n",
       " 0.39868545697691266,\n",
       " 0.4001539323841598,\n",
       " 0.3951775936168537,\n",
       " 0.39639121805524247,\n",
       " 0.39738503956593,\n",
       " 0.3964736470303274,\n",
       " 0.3936424371927782]"
      ]
     },
     "execution_count": 47,
     "metadata": {},
     "output_type": "execute_result"
    }
   ],
   "source": [
    "cv_scores_2"
   ]
  }
 ],
 "metadata": {
  "kernelspec": {
   "display_name": "Python 3",
   "language": "python",
   "name": "python3"
  },
  "language_info": {
   "codemirror_mode": {
    "name": "ipython",
    "version": 3
   },
   "file_extension": ".py",
   "mimetype": "text/x-python",
   "name": "python",
   "nbconvert_exporter": "python",
   "pygments_lexer": "ipython3",
   "version": "3.7.6"
  }
 },
 "nbformat": 4,
 "nbformat_minor": 4
}
