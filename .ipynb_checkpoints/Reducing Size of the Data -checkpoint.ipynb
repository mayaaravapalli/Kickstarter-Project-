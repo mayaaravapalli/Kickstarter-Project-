{
 "cells": [
  {
   "cell_type": "code",
   "execution_count": 1,
   "metadata": {},
   "outputs": [],
   "source": [
    "# To write a Python 2/3 compatible codebase, the first step is to add this line to the top of each module\n",
    "from __future__ import division, print_function, unicode_literals\n",
    "\n",
    "import pandas as pd \n",
    "import numpy as np \n",
    "import seaborn as sns \n",
    "from matplotlib import pyplot as plt  \n",
    "\n",
    "#loading the data \n",
    "kick = pd.read_csv(\"C:/Users/mayaa/OneDrive/Documents/project_BA/Kickstarter-Project-/kick.csv\")\n",
    "\n"
   ]
  },
  {
   "cell_type": "code",
   "execution_count": 2,
   "metadata": {},
   "outputs": [],
   "source": [
    "#setting the x variables and the target\n",
    "\n",
    "# Retrieve features/attributes of dataset\n",
    "X = kick.iloc[:, np.r_[2,4,5,8,9,10]]\n",
    "\n",
    "# Retrieve target variable of dataset\n",
    "y = kick.iloc[:,11]"
   ]
  },
  {
   "cell_type": "code",
   "execution_count": 21,
   "metadata": {},
   "outputs": [],
   "source": [
    "kick3 = kick.sample(n=20000, axis = 0) "
   ]
  },
  {
   "cell_type": "code",
   "execution_count": 31,
   "metadata": {},
   "outputs": [],
   "source": [
    "kick3.head()\n",
    "y1 = kick3.iloc[:,11]"
   ]
  },
  {
   "cell_type": "code",
   "execution_count": 47,
   "metadata": {},
   "outputs": [
    {
     "name": "stdout",
     "output_type": "stream",
     "text": [
      "Labels counts in y: [11887  8113]\n"
     ]
    }
   ],
   "source": [
    "#seeing the balance of the dataset \n",
    "#class 0 -> 11,887 class 1 -> 8113 \n",
    "#seems pretty balanced \n",
    "print('Labels counts in y:', np.bincount(y1))"
   ]
  },
  {
   "cell_type": "code",
   "execution_count": 25,
   "metadata": {},
   "outputs": [
    {
     "name": "stdout",
     "output_type": "stream",
     "text": [
      "Labels counts in y: [11887  8113]\n"
     ]
    }
   ],
   "source": [
    "print('Labels counts in y:', np.bincount(y1))\n",
    "#saving it to a dataset so we have a random sample that doesn't change \n",
    "kick3.to_csv('C:/Users/mayaa/OneDrive/Documents/project_BA/Kickstarter-Project-/kick20k.csv', index = None)"
   ]
  },
  {
   "cell_type": "code",
   "execution_count": 36,
   "metadata": {},
   "outputs": [],
   "source": [
    "#reading in that new dataset that we used \n",
    "kick = pd.read_csv(\"C:/Users/mayaa/OneDrive/Documents/project_BA/Kickstarter-Project-/kick20k.csv\")"
   ]
  },
  {
   "cell_type": "code",
   "execution_count": 42,
   "metadata": {},
   "outputs": [],
   "source": [
    "kick4 = kick.sample(n=10000, axis = 0) "
   ]
  },
  {
   "cell_type": "code",
   "execution_count": 44,
   "metadata": {},
   "outputs": [
    {
     "data": {
      "text/html": [
       "<div>\n",
       "<style scoped>\n",
       "    .dataframe tbody tr th:only-of-type {\n",
       "        vertical-align: middle;\n",
       "    }\n",
       "\n",
       "    .dataframe tbody tr th {\n",
       "        vertical-align: top;\n",
       "    }\n",
       "\n",
       "    .dataframe thead th {\n",
       "        text-align: right;\n",
       "    }\n",
       "</style>\n",
       "<table border=\"1\" class=\"dataframe\">\n",
       "  <thead>\n",
       "    <tr style=\"text-align: right;\">\n",
       "      <th></th>\n",
       "      <th>main_category</th>\n",
       "      <th>state</th>\n",
       "      <th>backers</th>\n",
       "      <th>country</th>\n",
       "      <th>usd_pledged_real</th>\n",
       "      <th>usd_goal_real</th>\n",
       "      <th>deadline_date</th>\n",
       "      <th>launched_date</th>\n",
       "      <th>diff_days</th>\n",
       "      <th>country_recoded</th>\n",
       "      <th>main_category_recoded</th>\n",
       "      <th>recoded_target</th>\n",
       "    </tr>\n",
       "  </thead>\n",
       "  <tbody>\n",
       "    <tr>\n",
       "      <th>19063</th>\n",
       "      <td>Art</td>\n",
       "      <td>failed</td>\n",
       "      <td>1</td>\n",
       "      <td>GB</td>\n",
       "      <td>1.55</td>\n",
       "      <td>527.57</td>\n",
       "      <td>2015-08-07</td>\n",
       "      <td>2015-07-02</td>\n",
       "      <td>36</td>\n",
       "      <td>9</td>\n",
       "      <td>0</td>\n",
       "      <td>0</td>\n",
       "    </tr>\n",
       "    <tr>\n",
       "      <th>13531</th>\n",
       "      <td>Technology</td>\n",
       "      <td>failed</td>\n",
       "      <td>10</td>\n",
       "      <td>US</td>\n",
       "      <td>532.00</td>\n",
       "      <td>2000.00</td>\n",
       "      <td>2015-02-20</td>\n",
       "      <td>2015-01-21</td>\n",
       "      <td>30</td>\n",
       "      <td>22</td>\n",
       "      <td>13</td>\n",
       "      <td>0</td>\n",
       "    </tr>\n",
       "    <tr>\n",
       "      <th>3416</th>\n",
       "      <td>Film &amp; Video</td>\n",
       "      <td>successful</td>\n",
       "      <td>52</td>\n",
       "      <td>US</td>\n",
       "      <td>5250.00</td>\n",
       "      <td>5200.00</td>\n",
       "      <td>2014-08-19</td>\n",
       "      <td>2014-07-17</td>\n",
       "      <td>33</td>\n",
       "      <td>22</td>\n",
       "      <td>6</td>\n",
       "      <td>1</td>\n",
       "    </tr>\n",
       "    <tr>\n",
       "      <th>7212</th>\n",
       "      <td>Fashion</td>\n",
       "      <td>failed</td>\n",
       "      <td>115</td>\n",
       "      <td>US</td>\n",
       "      <td>11634.00</td>\n",
       "      <td>40000.00</td>\n",
       "      <td>2016-03-21</td>\n",
       "      <td>2016-02-17</td>\n",
       "      <td>33</td>\n",
       "      <td>22</td>\n",
       "      <td>5</td>\n",
       "      <td>0</td>\n",
       "    </tr>\n",
       "    <tr>\n",
       "      <th>13579</th>\n",
       "      <td>Food</td>\n",
       "      <td>successful</td>\n",
       "      <td>55</td>\n",
       "      <td>US</td>\n",
       "      <td>17000.00</td>\n",
       "      <td>10000.00</td>\n",
       "      <td>2017-08-22</td>\n",
       "      <td>2017-08-15</td>\n",
       "      <td>7</td>\n",
       "      <td>22</td>\n",
       "      <td>7</td>\n",
       "      <td>1</td>\n",
       "    </tr>\n",
       "  </tbody>\n",
       "</table>\n",
       "</div>"
      ],
      "text/plain": [
       "      main_category       state  backers country  usd_pledged_real  \\\n",
       "19063           Art      failed        1      GB              1.55   \n",
       "13531    Technology      failed       10      US            532.00   \n",
       "3416   Film & Video  successful       52      US           5250.00   \n",
       "7212        Fashion      failed      115      US          11634.00   \n",
       "13579          Food  successful       55      US          17000.00   \n",
       "\n",
       "       usd_goal_real deadline_date launched_date  diff_days  country_recoded  \\\n",
       "19063         527.57    2015-08-07    2015-07-02         36                9   \n",
       "13531        2000.00    2015-02-20    2015-01-21         30               22   \n",
       "3416         5200.00    2014-08-19    2014-07-17         33               22   \n",
       "7212        40000.00    2016-03-21    2016-02-17         33               22   \n",
       "13579       10000.00    2017-08-22    2017-08-15          7               22   \n",
       "\n",
       "       main_category_recoded  recoded_target  \n",
       "19063                      0               0  \n",
       "13531                     13               0  \n",
       "3416                       6               1  \n",
       "7212                       5               0  \n",
       "13579                      7               1  "
      ]
     },
     "execution_count": 44,
     "metadata": {},
     "output_type": "execute_result"
    }
   ],
   "source": [
    "kick4.head()"
   ]
  },
  {
   "cell_type": "code",
   "execution_count": 51,
   "metadata": {},
   "outputs": [
    {
     "name": "stdout",
     "output_type": "stream",
     "text": [
      "Labels counts in y: [5960 4040]\n"
     ]
    }
   ],
   "source": [
    "y2 = kick4.iloc[:,11]\n",
    "print('Labels counts in y:', np.bincount(y2)) \n",
    "\n",
    "kick4.to_csv('C:/Users/mayaa/OneDrive/Documents/project_BA/Kickstarter-Project-/kick10k.csv', index = None)"
   ]
  },
  {
   "cell_type": "code",
   "execution_count": 53,
   "metadata": {},
   "outputs": [],
   "source": [
    "#X values for kick 4\n",
    "X_k4 = kick4.iloc[:, np.r_[2,4,5,8,9,10]]\n",
    "\n",
    "# Retrieve target variable of dataset\n",
    "y_k4 = kick4.iloc[:,11]"
   ]
  }
 ],
 "metadata": {
  "kernelspec": {
   "display_name": "Python 3",
   "language": "python",
   "name": "python3"
  },
  "language_info": {
   "codemirror_mode": {
    "name": "ipython",
    "version": 3
   },
   "file_extension": ".py",
   "mimetype": "text/x-python",
   "name": "python",
   "nbconvert_exporter": "python",
   "pygments_lexer": "ipython3",
   "version": "3.7.6"
  }
 },
 "nbformat": 4,
 "nbformat_minor": 4
}
