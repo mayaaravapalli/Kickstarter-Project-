{
 "cells": [
  {
   "cell_type": "markdown",
   "metadata": {},
   "source": [
    "## Reducing the Dimension of the Data "
   ]
  },
  {
   "cell_type": "code",
   "execution_count": 46,
   "metadata": {},
   "outputs": [],
   "source": [
    "#Importing packages  and libraries \n",
    "import pandas as pd\n",
    "import numpy as np\n",
    "import matplotlib\n",
    "import matplotlib.pyplot as plt\n",
    "from matplotlib import cm\n",
    "import warnings\n",
    "warnings.simplefilter(\"ignore\")\n",
    "%matplotlib inline\n",
    "from IPython.display import Image\n",
    "\n",
    "matplotlib.rcParams['figure.figsize'] = [6, 6]\n"
   ]
  },
  {
   "cell_type": "code",
   "execution_count": 11,
   "metadata": {},
   "outputs": [],
   "source": [
    "kick = pd.read_csv(\"C:/Users/mayaa/OneDrive/Documents/project_BA/Kickstarter-Project-/kick.csv\")"
   ]
  },
  {
   "cell_type": "code",
   "execution_count": 12,
   "metadata": {},
   "outputs": [],
   "source": [
    "# Retrieve features/attributes of dataset\n",
    "X = kick.iloc[:, np.r_[2,4,5,8,9,10]]\n",
    "\n",
    "# Retrieve target variable of dataset\n",
    "y = kick.iloc[:,11]"
   ]
  },
  {
   "cell_type": "code",
   "execution_count": 13,
   "metadata": {},
   "outputs": [],
   "source": [
    "target = y.to_numpy()\n",
    "features = X.to_numpy()"
   ]
  },
  {
   "cell_type": "markdown",
   "metadata": {},
   "source": [
    "### PCA Step 1: Mean Centering the Data "
   ]
  },
  {
   "cell_type": "code",
   "execution_count": 14,
   "metadata": {},
   "outputs": [
    {
     "data": {
      "text/plain": [
       "array([1.16381581e+02, 1.05490180e+04, 4.40379606e+04, 3.39548745e+01,\n",
       "       1.89948263e+01, 7.48340996e+00])"
      ]
     },
     "execution_count": 14,
     "metadata": {},
     "output_type": "execute_result"
    }
   ],
   "source": [
    "#getting the mean of all the features \n",
    "features.mean(axis=0)"
   ]
  },
  {
   "cell_type": "code",
   "execution_count": 16,
   "metadata": {},
   "outputs": [],
   "source": [
    "features_centered = (features - features.mean(axis=0))"
   ]
  },
  {
   "cell_type": "markdown",
   "metadata": {},
   "source": [
    "### PCA Step 2: Calculate the Covariance Matrix"
   ]
  },
  {
   "cell_type": "code",
   "execution_count": 19,
   "metadata": {},
   "outputs": [
    {
     "data": {
      "text/plain": [
       "array([[ 9.32049809e+05,  7.45339732e+07,  5.91525623e+06,\n",
       "        -6.06990212e-01,  6.61229002e+01,  2.14881827e+00],\n",
       "       [ 7.45339732e+07,  1.05316792e+10,  7.67179849e+08,\n",
       "         1.12875438e+04,  6.43602975e+03,  2.55376161e+03],\n",
       "       [ 5.91525623e+06,  7.67179849e+08,  1.38406632e+12,\n",
       "         3.23168027e+05, -3.07064936e+04,  4.09627595e+03],\n",
       "       [-6.06990212e-01,  1.12875438e+04,  3.23168027e+05,\n",
       "         1.61628821e+02,  2.38743334e+00,  1.92557510e+00],\n",
       "       [ 6.61229002e+01,  6.43602975e+03, -3.07064936e+04,\n",
       "         2.38743334e+00,  3.83634205e+01, -2.63669955e-01],\n",
       "       [ 2.14881827e+00,  2.55376161e+03,  4.09627595e+03,\n",
       "         1.92557510e+00, -2.63669955e-01,  1.54564285e+01]])"
      ]
     },
     "execution_count": 19,
     "metadata": {},
     "output_type": "execute_result"
    }
   ],
   "source": [
    "cov_mat = np.cov(m=features_centered.T)\n",
    "cov_mat"
   ]
  },
  {
   "cell_type": "markdown",
   "metadata": {},
   "source": [
    "###  PCA Step 3. Decompose the covariance matrix"
   ]
  },
  {
   "cell_type": "code",
   "execution_count": 22,
   "metadata": {},
   "outputs": [
    {
     "name": "stdout",
     "output_type": "stream",
     "text": [
      "EigenVectors:\n",
      " [[ 4.30390359e-06 -7.07718925e-03  9.99974934e-01  1.98789946e-04\n",
      "  -3.60445307e-05 -5.52184815e-05]\n",
      " [ 5.58544203e-04 -9.99974800e-01 -7.07719021e-03 -2.47641539e-06\n",
      "   4.91167913e-07 -1.98353319e-07]\n",
      " [ 9.99999844e-01  5.58560675e-04 -3.50824406e-07 -2.32513697e-07\n",
      "  -5.61027249e-10  2.70482991e-08]\n",
      " [ 2.33496167e-07 -1.05459364e-06 -1.99327475e-04  9.99726560e-01\n",
      "   1.33424112e-02 -1.92027460e-02]\n",
      " [-2.21831020e-08 -6.12763286e-07  5.08832790e-05  1.93751869e-02\n",
      "  -1.29166915e-02  9.99728843e-01]\n",
      " [ 2.96062435e-09 -2.42259608e-07 -3.93706454e-05  1.30907498e-02\n",
      "  -9.99827554e-01 -1.31716694e-02]]\n",
      "\n",
      "EigenValues: [1.38406675e+12 1.05317782e+10 4.04543409e+05 1.61597062e+02\n",
      " 1.54261511e+01 3.83152767e+01]\n"
     ]
    }
   ],
   "source": [
    "eigenvalues, eigenvectors = np.linalg.eig(cov_mat)\n",
    "\n",
    "print('EigenVectors:\\n', eigenvectors)\n",
    "print('\\nEigenValues:', eigenvalues)"
   ]
  },
  {
   "cell_type": "markdown",
   "metadata": {},
   "source": [
    "The Principle Components are the columns of the Eigenvectors matrix "
   ]
  },
  {
   "cell_type": "code",
   "execution_count": 25,
   "metadata": {},
   "outputs": [
    {
     "data": {
      "text/plain": [
       "array([1.38406675e+12, 1.05317782e+10, 4.04543409e+05, 1.61597062e+02,\n",
       "       1.54261511e+01, 3.83152767e+01])"
      ]
     },
     "execution_count": 25,
     "metadata": {},
     "output_type": "execute_result"
    }
   ],
   "source": [
    "#sorting the vectors because it doesn't do it automatically \n",
    "#viewing the eigenvalues \n",
    "eigenvalues"
   ]
  },
  {
   "cell_type": "code",
   "execution_count": 27,
   "metadata": {},
   "outputs": [
    {
     "data": {
      "text/plain": [
       "array([0, 1, 2, 3, 5, 4], dtype=int64)"
      ]
     },
     "execution_count": 27,
     "metadata": {},
     "output_type": "execute_result"
    }
   ],
   "source": [
    "np.argsort(eigenvalues)[::-1]"
   ]
  },
  {
   "cell_type": "code",
   "execution_count": 30,
   "metadata": {},
   "outputs": [
    {
     "name": "stdout",
     "output_type": "stream",
     "text": [
      "Sorted EigenVectors:\n",
      " [[ 4.30390359e-06 -7.07718925e-03  9.99974934e-01  1.98789946e-04\n",
      "  -5.52184815e-05 -3.60445307e-05]\n",
      " [ 5.58544203e-04 -9.99974800e-01 -7.07719021e-03 -2.47641539e-06\n",
      "  -1.98353319e-07  4.91167913e-07]\n",
      " [ 9.99999844e-01  5.58560675e-04 -3.50824406e-07 -2.32513697e-07\n",
      "   2.70482991e-08 -5.61027249e-10]\n",
      " [ 2.33496167e-07 -1.05459364e-06 -1.99327475e-04  9.99726560e-01\n",
      "  -1.92027460e-02  1.33424112e-02]\n",
      " [-2.21831020e-08 -6.12763286e-07  5.08832790e-05  1.93751869e-02\n",
      "   9.99728843e-01 -1.29166915e-02]\n",
      " [ 2.96062435e-09 -2.42259608e-07 -3.93706454e-05  1.30907498e-02\n",
      "  -1.31716694e-02 -9.99827554e-01]]\n",
      "\n",
      "Sorted EigenValues: [1.38406675e+12 1.05317782e+10 4.04543409e+05 1.61597062e+02\n",
      " 3.83152767e+01 1.54261511e+01]\n"
     ]
    }
   ],
   "source": [
    "components_order = np.argsort(eigenvalues)[::-1]\n",
    "sorted_eigenvalues = eigenvalues[components_order]\n",
    "\n",
    "sorted_eigenvectors = eigenvectors[:,components_order]\n",
    "\n",
    "print('Sorted EigenVectors:\\n', sorted_eigenvectors)\n",
    "print('\\nSorted EigenValues:', sorted_eigenvalues)"
   ]
  },
  {
   "cell_type": "code",
   "execution_count": 35,
   "metadata": {},
   "outputs": [
    {
     "data": {
      "image/png": "[encoded data removed]",
      "text/plain": [
       "<Figure size 432x288 with 1 Axes>"
      ]
     },
     "metadata": {
      "needs_background": "light"
     },
     "output_type": "display_data"
    }
   ],
   "source": [
    "%matplotlib inline\n",
    "\n",
    "sorted_eigenvalues\n",
    "\n",
    "plt.plot(sorted_eigenvalues)\n",
    "plt.title(\"Chart of principal components\");"
   ]
  },
  {
   "cell_type": "code",
   "execution_count": 37,
   "metadata": {},
   "outputs": [
    {
     "name": "stdout",
     "output_type": "stream",
     "text": [
      "\n",
      "PCA 1: 99.24% of variance explained\n",
      "PCA 2:  0.76% of variance explained\n",
      "PCA 3:  0.00% of variance explained\n",
      "\n"
     ]
    }
   ],
   "source": [
    "print(\"\"\"\n",
    "PCA 1: {0:.2f}% of variance explained\n",
    "PCA 2:  {1:.2f}% of variance explained\n",
    "PCA 3:  {2:.2f}% of variance explained\n",
    "\"\"\".format(*tuple(sorted_eigenvalues / sorted_eigenvalues.sum() * 100)))"
   ]
  },
  {
   "cell_type": "code",
   "execution_count": 39,
   "metadata": {},
   "outputs": [],
   "source": [
    "kick_principal_components = features_centered @ sorted_eigenvectors[:,:2]"
   ]
  },
  {
   "cell_type": "code",
   "execution_count": 41,
   "metadata": {},
   "outputs": [
    {
     "data": {
      "text/plain": [
       "array([[-42416.47905332,  10525.88695872],\n",
       "       [-12215.41666817,   7974.27494408],\n",
       "       [  3696.77657069,  10318.23059934],\n",
       "       [-38739.34659214,  10526.87293295],\n",
       "       [  9032.18163514, -45010.21573803],\n",
       "       [-42982.23242625,   9247.10506636],\n",
       "       [-17521.08189378,  10058.93373177],\n",
       "       [-41490.90760835,  10526.40398087],\n",
       "       [-30775.0724936 ,  -2941.41298259],\n",
       "       [-38739.34718903,  10527.94088534]])"
      ]
     },
     "execution_count": 41,
     "metadata": {},
     "output_type": "execute_result"
    }
   ],
   "source": [
    "kick_principal_components[:10]"
   ]
  },
  {
   "cell_type": "code",
   "execution_count": 50,
   "metadata": {},
   "outputs": [
    {
     "data": {
      "image/png": "[encoded data removed]",
      "text/plain": [
       "<Figure size 432x432 with 1 Axes>"
      ]
     },
     "metadata": {
      "needs_background": "light"
     },
     "output_type": "display_data"
    }
   ],
   "source": [
    "plt.scatter(kick_principal_components[:,0], kick_principal_components[:,1], c=target, \n",
    "            cmap=cm.Set3)\n",
    "plt.title(\"Dataset after PCA (2 components)\", size=18)\n",
    "plt.xlabel(\"Principal Component 1\", size=18)\n",
    "plt.ylabel(\"Principal Component 2\", size=18);\n",
    "\n",
    "\n",
    "#LOL IT LOOKS SOOOOO WRONG "
   ]
  },
  {
   "cell_type": "markdown",
   "metadata": {},
   "source": [
    "## Trying a different way "
   ]
  },
  {
   "cell_type": "code",
   "execution_count": 52,
   "metadata": {},
   "outputs": [],
   "source": [
    "from sklearn.decomposition import PCA\n",
    "pca = PCA(n_components=3)\n",
    "kick_pca = pca.fit_transform(features_centered)"
   ]
  },
  {
   "cell_type": "code",
   "execution_count": 54,
   "metadata": {},
   "outputs": [
    {
     "data": {
      "text/plain": [
       "array([[ 4.30390359e-06,  5.58544203e-04,  9.99999844e-01,\n",
       "         2.33496167e-07, -2.21831020e-08,  2.96062435e-09],\n",
       "       [ 7.07718925e-03,  9.99974800e-01, -5.58560675e-04,\n",
       "         1.05459364e-06,  6.12763286e-07,  2.42259608e-07],\n",
       "       [ 9.99974934e-01, -7.07719021e-03, -3.50824406e-07,\n",
       "        -1.99327475e-04,  5.08832790e-05, -3.93706454e-05]])"
      ]
     },
     "execution_count": 54,
     "metadata": {},
     "output_type": "execute_result"
    }
   ],
   "source": [
    "pca.components_"
   ]
  },
  {
   "cell_type": "code",
   "execution_count": 56,
   "metadata": {},
   "outputs": [
    {
     "data": {
      "text/plain": [
       "array([9.92447877e-01, 7.55183296e-03, 2.90078675e-07])"
      ]
     },
     "execution_count": 56,
     "metadata": {},
     "output_type": "execute_result"
    }
   ],
   "source": [
    "pca.explained_variance_ratio_"
   ]
  },
  {
   "cell_type": "code",
   "execution_count": 58,
   "metadata": {},
   "outputs": [
    {
     "data": {
      "text/plain": [
       "array([[ 4.30390359e-06,  5.58544203e-04,  9.99999844e-01,\n",
       "         2.33496167e-07, -2.21831020e-08,  2.96062435e-09],\n",
       "       [ 1.98789946e-04, -2.47641539e-06, -2.32513697e-07,\n",
       "         9.99726560e-01,  1.93751869e-02,  1.30907498e-02]])"
      ]
     },
     "execution_count": 58,
     "metadata": {},
     "output_type": "execute_result"
    }
   ],
   "source": [
    "eigenvectors[:,[0,3]].T"
   ]
  },
  {
   "cell_type": "code",
   "execution_count": 60,
   "metadata": {},
   "outputs": [
    {
     "data": {
      "image/png": "[encoded data removed]",
      "text/plain": [
       "<Figure size 432x432 with 1 Axes>"
      ]
     },
     "metadata": {
      "needs_background": "light"
     },
     "output_type": "display_data"
    }
   ],
   "source": [
    "plt.scatter(kick_pca[:,0], kick_pca[:,1], kick_pca[:,2], c=target, \n",
    "            cmap=cm.Set3)\n",
    "plt.title(\"Dataset after PCA (3 components in scikit-learn)\", size=8)\n",
    "plt.xlabel(\"Principal Component 1\", size=18)\n",
    "plt.ylabel(\"Principal Component 2\", size=18);\n",
    "\n",
    "\n",
    "#EVEN WORSE LOLOLOLOLOLOLOLOLOLOL "
   ]
  }
 ],
 "metadata": {
  "kernelspec": {
   "display_name": "Python 3",
   "language": "python",
   "name": "python3"
  },
  "language_info": {
   "codemirror_mode": {
    "name": "ipython",
    "version": 3
   },
   "file_extension": ".py",
   "mimetype": "text/x-python",
   "name": "python",
   "nbconvert_exporter": "python",
   "pygments_lexer": "ipython3",
   "version": "3.7.6"
  }
 },
 "nbformat": 4,
 "nbformat_minor": 4
}
