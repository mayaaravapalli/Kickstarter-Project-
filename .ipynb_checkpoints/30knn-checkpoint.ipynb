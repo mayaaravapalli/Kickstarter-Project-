{
 "cells": [
  {
   "cell_type": "code",
   "execution_count": 1,
   "metadata": {},
   "outputs": [],
   "source": [
    "# To write a Python 2/3 compatible codebase, the first step is to add this line to the top of each module\n",
    "from __future__ import division, print_function, unicode_literals\n",
    "\n",
    "import pandas as pd \n",
    "import numpy as np \n",
    "import seaborn as sns \n",
    "from matplotlib import pyplot as plt  "
   ]
  },
  {
   "cell_type": "code",
   "execution_count": 2,
   "metadata": {},
   "outputs": [],
   "source": [
    "kick30k = pd.read_csv('C:/Users/mayaa/OneDrive/Documents/project_BA/Kickstarter-Project-/kick30k.csv', index_col = None) "
   ]
  },
  {
   "cell_type": "code",
   "execution_count": 3,
   "metadata": {},
   "outputs": [],
   "source": [
    "X = kick30k.iloc[:, 4:14]\n",
    "y = kick30k.iloc[:,14]"
   ]
  },
  {
   "cell_type": "code",
   "execution_count": 10,
   "metadata": {},
   "outputs": [],
   "source": [
    "############################################## Split the Data ##############################################\n",
    "\n",
    "from sklearn.model_selection import train_test_split\n",
    "\n",
    "X_train, X_test, y_train, y_test = train_test_split(\n",
    "    X, y, test_size=0.2, random_state=1, stratify=y)"
   ]
  },
  {
   "cell_type": "code",
   "execution_count": 11,
   "metadata": {},
   "outputs": [],
   "source": [
    "from sklearn.preprocessing import StandardScaler # Standardize features by removing the mean and scaling to unit variance\n",
    "\n",
    "sc = StandardScaler()\n",
    "sc.fit(X_train) # Compute the mean and std to be used for later scaling.\n",
    "\n",
    "X_train_std = sc.transform(X_train) # Perform standardization of train set X by centering and scaling\n",
    "X_test_std = sc.transform(X_test) # Perform standardization of test set Xby centering and scaling"
   ]
  },
  {
   "cell_type": "code",
   "execution_count": 12,
   "metadata": {},
   "outputs": [],
   "source": [
    "############################################# Train the Model #############################################\n",
    "\n",
    "from sklearn import neighbors, datasets\n",
    "\n",
    "# KNeighborsClassifier is a classifier implementing the k-nearest neighbors vote.\n",
    "# Learn more about it here https://scikit-learn.org/stable/modules/generated/sklearn.neighbors.KNeighborsClassifier.html\n",
    "\n",
    "# Set parameters of KNeighborsClassifier\n",
    "knn = neighbors.KNeighborsClassifier(n_neighbors=5, #n_neighbors is the k in the kNN\n",
    "                           p=2, \n",
    "                           metric='minkowski') #The default metric is minkowski, which is a generalization of the Euclidean distance\n",
    "                                               # with p=2 is equivalent to the standard Euclidean distance.\n",
    "                                               # with p=1 is equivalent to the Mahattan distance.\n",
    "\n",
    "# Train the model      \n",
    "knn = knn.fit(X_train_std, y_train)  \n",
    "\n",
    "\n"
   ]
  },
  {
   "cell_type": "code",
   "execution_count": 13,
   "metadata": {},
   "outputs": [
    {
     "name": "stdout",
     "output_type": "stream",
     "text": [
      "Accuracy (out-of-sample): 0.57\n",
      "Accuracy (in-sample): 0.72\n",
      "F1 score (out-of-sample):  0.5364726061206359\n",
      "F1 score (in-sample)    :  0.7025539299969454\n",
      "              precision    recall  f1-score   support\n",
      "\n",
      "     success       0.62      0.72      0.67      3578\n",
      "     failure       0.46      0.36      0.40      2422\n",
      "\n",
      "    accuracy                           0.57      6000\n",
      "   macro avg       0.54      0.54      0.54      6000\n",
      "weighted avg       0.56      0.57      0.56      6000\n",
      "\n"
     ]
    }
   ],
   "source": [
    "############################################# Evaluate the Model #############################################\n",
    "\n",
    "# The sklearn.metrics module includes score functions, performance metrics and pairwise metrics \n",
    "# and distance computations.\n",
    "# https://scikit-learn.org/stable/modules/classes.html#sklearn-metrics-metrics\n",
    "from sklearn.metrics import accuracy_score, f1_score, cohen_kappa_score, classification_report\n",
    "\n",
    "# Estimate the predicted values by applying the kNN algorithm\n",
    "y_pred = knn.predict(X_test_std)\n",
    "y_pred_insample = knn.predict(X_train_std)\n",
    "\n",
    "# Accuracy\n",
    "print('Accuracy (out-of-sample): %.2f' % accuracy_score(y_test, y_pred))\n",
    "print('Accuracy (in-sample): %.2f' % accuracy_score(y_train, y_pred_insample))\n",
    "\n",
    "# F1 score\n",
    "print('F1 score (out-of-sample): ', f1_score(y_test, y_pred, average='macro'))\n",
    "print('F1 score (in-sample)    : ', f1_score(y_train, y_pred_insample, average='macro'))\n",
    "\n",
    "# Build a text report showing the main classification metrics (out-of-sample performance)\n",
    "print(classification_report(y_test, y_pred, target_names=['success', 'failure']))"
   ]
  },
  {
   "cell_type": "code",
   "execution_count": 15,
   "metadata": {},
   "outputs": [],
   "source": [
    "from sklearn.model_selection import GridSearchCV, KFold, cross_val_score #http://scikit-learn.org/stable/modules/generated/sklearn.model_selection.GridSearchCV.html\n",
    "np.random.seed(42) # Ensure reproducability\n",
    "\n",
    "inner_cv = KFold(n_splits=5, shuffle=True)\n",
    "outer_cv = KFold(n_splits=5, shuffle=True)"
   ]
  },
  {
   "cell_type": "code",
   "execution_count": 17,
   "metadata": {},
   "outputs": [
    {
     "name": "stdout",
     "output_type": "stream",
     "text": [
      "\n",
      " Parameter Tuning #1\n",
      "Non-nested CV Accuracy:  0.6049\n",
      "Optimal Parameter:  {'n_neighbors': 29}\n",
      "Optimal Estimator:  KNeighborsClassifier(algorithm='auto', leaf_size=30, metric='minkowski',\n",
      "                     metric_params=None, n_jobs=None, n_neighbors=29, p=2,\n",
      "                     weights='uniform')\n",
      "Nested CV Accuracy:  0.6065666666666667  +/-  0.005276362383309188\n",
      "\n",
      " Parameter Tuning #2\n",
      "Non-nested CV Accuracy:  0.6038\n",
      "Optimal Parameter:  {'n_neighbors': 21, 'weights': 'uniform'}\n",
      "Optimal Estimator:  KNeighborsClassifier(algorithm='auto', leaf_size=30, metric='minkowski',\n",
      "                     metric_params=None, n_jobs=None, n_neighbors=21, p=2,\n",
      "                     weights='uniform')\n",
      "Nested CV Accuracy:  0.6033666666666667  +/-  0.004030991055421567\n"
     ]
    }
   ],
   "source": [
    "sc.fit(X_train)\n",
    "X_train_std = sc.transform(X_train)\n",
    "X_test_std = sc.transform(X_test)\n",
    "\n",
    "# Choosing k for kNN\n",
    "gs_knn = GridSearchCV(estimator=neighbors.KNeighborsClassifier(p=2, \n",
    "                           metric='minkowski'),\n",
    "                  param_grid=[{'n_neighbors': [1,3,5,7,9,11,13,15,17,19,21,23,25,27,29]}],\n",
    "                  scoring='accuracy',\n",
    "                  cv=inner_cv)\n",
    "#print(len(y))\n",
    "gs_knn = gs_knn.fit(X,y) \n",
    "print(\"\\n Parameter Tuning #1\")\n",
    "print(\"Non-nested CV Accuracy: \", gs_knn.best_score_)\n",
    "print(\"Optimal Parameter: \", gs_knn.best_params_)\n",
    "print(\"Optimal Estimator: \", gs_knn.best_estimator_)\n",
    "nested_score_gs_knn = cross_val_score(gs_knn, X=X, y=y, cv=outer_cv)\n",
    "print(\"Nested CV Accuracy: \",nested_score_gs_knn.mean(), \" +/- \", nested_score_gs_knn.std())\n",
    " \n",
    "# Choosing k for kNN AND type of distance\n",
    "gs_knn2 = GridSearchCV(estimator=neighbors.KNeighborsClassifier(p=2, \n",
    "                           metric='minkowski'),\n",
    "                  param_grid=[{'n_neighbors': [1,3,5,7,9,11,13,15,17,19,21],\n",
    "                               'weights':['uniform','distance']}],\n",
    "                  scoring='accuracy',\n",
    "                  cv=inner_cv,\n",
    "                  n_jobs=4)\n",
    "\n",
    "gs_knn2 = gs_knn2.fit(X,y)  \n",
    "print(\"\\n Parameter Tuning #2\")\n",
    "print(\"Non-nested CV Accuracy: \", gs_knn2.best_score_)\n",
    "print(\"Optimal Parameter: \", gs_knn2.best_params_)\n",
    "print(\"Optimal Estimator: \", gs_knn2.best_estimator_) # Estimator that was chosen by the search, i.e. estimator which gave highest score\n",
    "nested_score_gs_knn2 = cross_val_score(gs_knn2, X=X, y=y, cv=outer_cv)\n",
    "print(\"Nested CV Accuracy: \",nested_score_gs_knn2.mean(), \" +/- \", nested_score_gs_knn2.std())"
   ]
  },
  {
   "cell_type": "code",
   "execution_count": 18,
   "metadata": {},
   "outputs": [],
   "source": [
    "def plot_learning_curve(estimator, title, X, y, ylim=None, cv=None,\n",
    "                        n_jobs=1, train_sizes=np.linspace(.1, 1.0, 10)):\n",
    "    \"\"\"\n",
    "    Generate a simple plot of the test and training learning curve.\n",
    "\n",
    "    Parameters\n",
    "    ----------\n",
    "    estimator : object type that implements the \"fit\" and \"predict\" methods\n",
    "        An object of that type which is cloned for each validation.\n",
    "\n",
    "    title : string\n",
    "        Title for the chart.\n",
    "\n",
    "    X : array-like, shape (n_samples, n_features)\n",
    "        Training vector, where n_samples is the number of samples and\n",
    "        n_features is the number of features.\n",
    "\n",
    "    y : array-like, shape (n_samples) or (n_samples, n_features), optional\n",
    "        Target relative to X for classification or regression;\n",
    "        None for unsupervised learning.\n",
    "\n",
    "    ylim : tuple, shape (ymin, ymax), optional\n",
    "        Defines minimum and maximum yvalues plotted.\n",
    "\n",
    "    cv : int, cross-validation generator or an iterable, optional\n",
    "        Determines the cross-validation splitting strategy.\n",
    "        Possible inputs for cv are:\n",
    "          - None, to use the default 3-fold cross-validation,\n",
    "          - integer, to specify the number of folds.\n",
    "          - An object to be used as a cross-validation generator.\n",
    "          - An iterable yielding train/test splits.\n",
    "\n",
    "        For integer/None inputs, if ``y`` is binary or multiclass,\n",
    "        :class:`StratifiedKFold` used. If the estimator is not a classifier\n",
    "        or if ``y`` is neither binary nor multiclass, :class:`KFold` is used.\n",
    "\n",
    "        Refer :ref:`User Guide <cross_validation>` for the various\n",
    "        cross-validators that can be used here.\n",
    "\n",
    "    n_jobs : integer, optional\n",
    "        Number of jobs to run in parallel (default 1).\n",
    "    \"\"\"\n",
    "    plt.figure()                    #display figure\n",
    "    plt.title(title)\n",
    "    if ylim is not None:\n",
    "        plt.ylim(*ylim)\n",
    "    plt.xlabel(\"Training examples\") #y label title\n",
    "    plt.ylabel(\"Score\")             #x label title\n",
    "    \n",
    "    # Class learning_curve determines cross-validated training and test scores for different training set sizes\n",
    "    train_sizes, train_scores, test_scores = learning_curve(\n",
    "        estimator, X, y, cv=cv, n_jobs=n_jobs, train_sizes=train_sizes)\n",
    "    \n",
    "    # Cross validation statistics for training and testing data (mean and standard deviation)\n",
    "    train_scores_mean = np.mean(train_scores, axis=1) # Compute the arithmetic mean along the specified axis.\n",
    "    train_scores_std = np.std(train_scores, axis=1)   # Compute the standard deviation along the specified axis.\n",
    "    test_scores_mean = np.mean(test_scores, axis=1)   # Compute the arithmetic mean along the specified axis.\n",
    "    test_scores_std = np.std(test_scores, axis=1)     # Compute the standard deviation along the specified axis.\n",
    "\n",
    "    plt.grid() # Configure the grid lines\n",
    "\n",
    "    # Fill the area around the line to indicate the size of standard deviations for the training data\n",
    "    # and the test data\n",
    "    plt.fill_between(train_sizes, train_scores_mean - train_scores_std,\n",
    "                     train_scores_mean + train_scores_std, alpha=0.1,\n",
    "                     color=\"#555557\") # train data performance indicated with red\n",
    "    plt.fill_between(train_sizes, test_scores_mean - test_scores_std,\n",
    "                     test_scores_mean + test_scores_std, alpha=0.1, color=\"#7BC043\") # test data performance indicated with green\n",
    "    \n",
    "    # Cross-validation means indicated by dots\n",
    "    # Train data performance indicated with red\n",
    "    plt.plot(train_sizes, train_scores_mean, 'o-', color=\"#555557\",\n",
    "             label=\"Training score\")\n",
    "    # Test data performance indicated with green\n",
    "    plt.plot(train_sizes, test_scores_mean, 'o-', color=\"#7BC043\",\n",
    "             label=\"Cross-validation/Test score\")\n",
    "\n",
    "    plt.legend(loc=\"best\") # Show legend of the plot at the best location possible\n",
    "    return plt             # Function that returns the plot as an output"
   ]
  },
  {
   "cell_type": "code",
   "execution_count": 20,
   "metadata": {},
   "outputs": [
    {
     "data": {
      "image/png": "[encoded data removed]",
      "text/plain": [
       "<Figure size 432x288 with 1 Axes>"
      ]
     },
     "metadata": {
      "needs_background": "light"
     },
     "output_type": "display_data"
    }
   ],
   "source": [
    "# Determines cross-validated training and test scores for different training set sizes\n",
    "from sklearn.model_selection import learning_curve \n",
    "# Random permutation cross-validator\n",
    "from sklearn.model_selection import ShuffleSplit\n",
    "# Logistic regression classifier class\n",
    "from sklearn.linear_model import LogisticRegression\n",
    "# kNN classifier class\n",
    "from sklearn import neighbors\n",
    "# Each pyplot function makes some change to a figure: e.g., creates a figure, creates a plotting area in a figure, \n",
    "# plots some lines in a plotting area, decorates the plot with labels, etc\n",
    "import matplotlib.pyplot as plt\n",
    "from sklearn.neighbors import KNeighborsClassifier\n",
    "\n",
    "title = \"Learning Curve (kNN)\"\n",
    "\n",
    "# Class ShuffleSplit is a random permutation cross-validator\n",
    "# Parameter n_splits = Number of re-shuffling & splitting iterations\n",
    "# Parameter test_size = represents the proportion of the dataset to include in the test split (float between 0.0 and 1.0) \n",
    "# Parameter random_state = the seed used by the random number generator\n",
    "cv = ShuffleSplit(n_splits=13, test_size=0.3, random_state=42)\n",
    "estimator = KNeighborsClassifier()\n",
    "# Plots the learning curve based on the previously defined function for the logistic regression estimator\n",
    "plot_learning_curve(estimator, title, X, y, (0, 1.00), cv=cv, n_jobs=4)\n",
    "\n",
    "plt.show() # Display the figure"
   ]
  }
 ],
 "metadata": {
  "kernelspec": {
   "display_name": "Python 3",
   "language": "python",
   "name": "python3"
  },
  "language_info": {
   "codemirror_mode": {
    "name": "ipython",
    "version": 3
   },
   "file_extension": ".py",
   "mimetype": "text/x-python",
   "name": "python",
   "nbconvert_exporter": "python",
   "pygments_lexer": "ipython3",
   "version": "3.7.6"
  }
 },
 "nbformat": 4,
 "nbformat_minor": 4
}
