{
 "cells": [
  {
   "cell_type": "markdown",
   "metadata": {},
   "source": [
    "## Reducing the Dimension of the Data "
   ]
  },
  {
   "cell_type": "code",
   "execution_count": 10,
   "metadata": {},
   "outputs": [],
   "source": [
    "#Importing packages  and libraries \n",
    "import pandas as pd\n",
    "import numpy as np\n",
    "import matplotlib\n",
    "import matplotlib.pyplot as plt\n",
    "from matplotlib import cm\n",
    "import warnings\n",
    "warnings.simplefilter(\"ignore\")\n",
    "%matplotlib inline\n",
    "\n",
    "#supressing scientific notation \n",
    "pd.set_option('display.float_format', lambda x: '%.5f' % x)"
   ]
  },
  {
   "cell_type": "code",
   "execution_count": 11,
   "metadata": {},
   "outputs": [],
   "source": [
    "kick = pd.read_csv(\"C:/Users/mayaa/OneDrive/Documents/project_BA/Kickstarter-Project-/kick.csv\")"
   ]
  },
  {
   "cell_type": "code",
   "execution_count": 12,
   "metadata": {},
   "outputs": [],
   "source": [
    "# Retrieve features/attributes of dataset\n",
    "X = kick.iloc[:, np.r_[2,4,5,8,9,10]]\n",
    "\n",
    "# Retrieve target variable of dataset\n",
    "y = kick.iloc[:,11]"
   ]
  },
  {
   "cell_type": "code",
   "execution_count": 13,
   "metadata": {},
   "outputs": [],
   "source": [
    "target = y.to_numpy()\n",
    "features = X.to_numpy()"
   ]
  },
  {
   "cell_type": "markdown",
   "metadata": {},
   "source": [
    "### PCA Step 1: Mean Centering the Data "
   ]
  },
  {
   "cell_type": "code",
   "execution_count": 14,
   "metadata": {},
   "outputs": [
    {
     "data": {
      "text/plain": [
       "array([1.16381581e+02, 1.05490180e+04, 4.40379606e+04, 3.39548745e+01,\n",
       "       1.89948263e+01, 7.48340996e+00])"
      ]
     },
     "execution_count": 14,
     "metadata": {},
     "output_type": "execute_result"
    }
   ],
   "source": [
    "#getting the mean of all the features \n",
    "features.mean(axis=0)"
   ]
  },
  {
   "cell_type": "code",
   "execution_count": 16,
   "metadata": {},
   "outputs": [],
   "source": [
    "features_centered = (features - features.mean(axis=0))"
   ]
  },
  {
   "cell_type": "markdown",
   "metadata": {},
   "source": [
    "### PCA Step 2: Calculate the Covariance Matrix"
   ]
  },
  {
   "cell_type": "code",
   "execution_count": 18,
   "metadata": {},
   "outputs": [
    {
     "data": {
      "text/plain": [
       "array([[ 9.32049809e+05,  7.45339732e+07,  5.91525623e+06,\n",
       "        -6.06990212e-01,  6.61229002e+01,  2.14881827e+00],\n",
       "       [ 7.45339732e+07,  1.05316792e+10,  7.67179849e+08,\n",
       "         1.12875438e+04,  6.43602975e+03,  2.55376161e+03],\n",
       "       [ 5.91525623e+06,  7.67179849e+08,  1.38406632e+12,\n",
       "         3.23168027e+05, -3.07064936e+04,  4.09627595e+03],\n",
       "       [-6.06990212e-01,  1.12875438e+04,  3.23168027e+05,\n",
       "         1.61628821e+02,  2.38743334e+00,  1.92557510e+00],\n",
       "       [ 6.61229002e+01,  6.43602975e+03, -3.07064936e+04,\n",
       "         2.38743334e+00,  3.83634205e+01, -2.63669955e-01],\n",
       "       [ 2.14881827e+00,  2.55376161e+03,  4.09627595e+03,\n",
       "         1.92557510e+00, -2.63669955e-01,  1.54564285e+01]])"
      ]
     },
     "execution_count": 18,
     "metadata": {},
     "output_type": "execute_result"
    }
   ],
   "source": [
    "cov_mat = np.cov(m=features_centered.T)\n",
    "cov_mat"
   ]
  }
 ],
 "metadata": {
  "kernelspec": {
   "display_name": "Python 3",
   "language": "python",
   "name": "python3"
  },
  "language_info": {
   "codemirror_mode": {
    "name": "ipython",
    "version": 3
   },
   "file_extension": ".py",
   "mimetype": "text/x-python",
   "name": "python",
   "nbconvert_exporter": "python",
   "pygments_lexer": "ipython3",
   "version": "3.7.6"
  }
 },
 "nbformat": 4,
 "nbformat_minor": 4
}
