{
 "cells": [
  {
   "cell_type": "markdown",
   "metadata": {},
   "source": [
    "# Exploratory Data Analysis: Kickstarter Project \n"
   ]
  },
  {
   "cell_type": "markdown",
   "metadata": {},
   "source": [
    "**Importing Packages and Tools**"
   ]
  },
  {
   "cell_type": "code",
   "execution_count": 2,
   "metadata": {},
   "outputs": [],
   "source": [
    "import pandas as pd \n",
    "import numpy as np \n",
    "import seaborn as sns \n",
    "from matplotlib import pyplot as plt  \n",
    "\n",
    "#supressing scientific notation \n",
    "pd.set_option('display.float_format', lambda x: '%.5f' % x)"
   ]
  },
  {
   "cell_type": "code",
   "execution_count": 2,
   "metadata": {},
   "outputs": [],
   "source": [
    "#importing the data \n",
    "kick = pd.read_csv(\"C:/Users/mayaa/OneDrive/Documents/project_BA/Kickstarter-Project-/ks.csv\")"
   ]
  },
  {
   "cell_type": "code",
   "execution_count": 3,
   "metadata": {},
   "outputs": [],
   "source": [
    "# Keeping only failed and successful companies\n",
    "kick = kick[(kick['state'] == 'failed') | (kick['state'] == 'successful')]"
   ]
  },
  {
   "cell_type": "markdown",
   "metadata": {},
   "source": [
    "Note: The original kickstarter dataset had the values that were other than success or failure but we decided to ignore thos values for now. The values were \"canceled\", \"undefined\". "
   ]
  },
  {
   "cell_type": "code",
   "execution_count": 4,
   "metadata": {},
   "outputs": [
    {
     "data": {
      "text/html": [
       "<div>\n",
       "<style scoped>\n",
       "    .dataframe tbody tr th:only-of-type {\n",
       "        vertical-align: middle;\n",
       "    }\n",
       "\n",
       "    .dataframe tbody tr th {\n",
       "        vertical-align: top;\n",
       "    }\n",
       "\n",
       "    .dataframe thead th {\n",
       "        text-align: right;\n",
       "    }\n",
       "</style>\n",
       "<table border=\"1\" class=\"dataframe\">\n",
       "  <thead>\n",
       "    <tr style=\"text-align: right;\">\n",
       "      <th></th>\n",
       "      <th>ID</th>\n",
       "      <th>name</th>\n",
       "      <th>category</th>\n",
       "      <th>main_category</th>\n",
       "      <th>currency</th>\n",
       "      <th>deadline</th>\n",
       "      <th>goal</th>\n",
       "      <th>launched</th>\n",
       "      <th>pledged</th>\n",
       "      <th>state</th>\n",
       "      <th>backers</th>\n",
       "      <th>country</th>\n",
       "      <th>usd pledged</th>\n",
       "      <th>usd_pledged_real</th>\n",
       "      <th>usd_goal_real</th>\n",
       "    </tr>\n",
       "  </thead>\n",
       "  <tbody>\n",
       "    <tr>\n",
       "      <th>0</th>\n",
       "      <td>1000002330</td>\n",
       "      <td>The Songs of Adelaide &amp; Abullah</td>\n",
       "      <td>Poetry</td>\n",
       "      <td>Publishing</td>\n",
       "      <td>GBP</td>\n",
       "      <td>10/9/2015</td>\n",
       "      <td>1000.00000</td>\n",
       "      <td>8/11/2015 12:12</td>\n",
       "      <td>0.00000</td>\n",
       "      <td>failed</td>\n",
       "      <td>0</td>\n",
       "      <td>GB</td>\n",
       "      <td>0.00000</td>\n",
       "      <td>0.00000</td>\n",
       "      <td>1533.95000</td>\n",
       "    </tr>\n",
       "    <tr>\n",
       "      <th>1</th>\n",
       "      <td>1000003930</td>\n",
       "      <td>Greeting From Earth: ZGAC Arts Capsule For ET</td>\n",
       "      <td>Narrative Film</td>\n",
       "      <td>Film &amp; Video</td>\n",
       "      <td>USD</td>\n",
       "      <td>11/1/2017</td>\n",
       "      <td>30000.00000</td>\n",
       "      <td>9/2/2017 4:43</td>\n",
       "      <td>2421.00000</td>\n",
       "      <td>failed</td>\n",
       "      <td>15</td>\n",
       "      <td>US</td>\n",
       "      <td>100.00000</td>\n",
       "      <td>2421.00000</td>\n",
       "      <td>30000.00000</td>\n",
       "    </tr>\n",
       "    <tr>\n",
       "      <th>2</th>\n",
       "      <td>1000004038</td>\n",
       "      <td>Where is Hank?</td>\n",
       "      <td>Narrative Film</td>\n",
       "      <td>Film &amp; Video</td>\n",
       "      <td>USD</td>\n",
       "      <td>2/26/2013</td>\n",
       "      <td>45000.00000</td>\n",
       "      <td>1/12/2013 0:20</td>\n",
       "      <td>220.00000</td>\n",
       "      <td>failed</td>\n",
       "      <td>3</td>\n",
       "      <td>US</td>\n",
       "      <td>220.00000</td>\n",
       "      <td>220.00000</td>\n",
       "      <td>45000.00000</td>\n",
       "    </tr>\n",
       "    <tr>\n",
       "      <th>3</th>\n",
       "      <td>1000007540</td>\n",
       "      <td>ToshiCapital Rekordz Needs Help to Complete Album</td>\n",
       "      <td>Music</td>\n",
       "      <td>Music</td>\n",
       "      <td>USD</td>\n",
       "      <td>4/16/2012</td>\n",
       "      <td>5000.00000</td>\n",
       "      <td>3/17/2012 3:24</td>\n",
       "      <td>1.00000</td>\n",
       "      <td>failed</td>\n",
       "      <td>1</td>\n",
       "      <td>US</td>\n",
       "      <td>1.00000</td>\n",
       "      <td>1.00000</td>\n",
       "      <td>5000.00000</td>\n",
       "    </tr>\n",
       "    <tr>\n",
       "      <th>5</th>\n",
       "      <td>1000014025</td>\n",
       "      <td>Monarch Espresso Bar</td>\n",
       "      <td>Restaurants</td>\n",
       "      <td>Food</td>\n",
       "      <td>USD</td>\n",
       "      <td>4/1/2016</td>\n",
       "      <td>50000.00000</td>\n",
       "      <td>2/26/2016 13:38</td>\n",
       "      <td>52375.00000</td>\n",
       "      <td>successful</td>\n",
       "      <td>224</td>\n",
       "      <td>US</td>\n",
       "      <td>52375.00000</td>\n",
       "      <td>52375.00000</td>\n",
       "      <td>50000.00000</td>\n",
       "    </tr>\n",
       "  </tbody>\n",
       "</table>\n",
       "</div>"
      ],
      "text/plain": [
       "           ID                                               name  \\\n",
       "0  1000002330                    The Songs of Adelaide & Abullah   \n",
       "1  1000003930      Greeting From Earth: ZGAC Arts Capsule For ET   \n",
       "2  1000004038                                     Where is Hank?   \n",
       "3  1000007540  ToshiCapital Rekordz Needs Help to Complete Album   \n",
       "5  1000014025                               Monarch Espresso Bar   \n",
       "\n",
       "         category main_category currency   deadline        goal  \\\n",
       "0          Poetry    Publishing      GBP  10/9/2015  1000.00000   \n",
       "1  Narrative Film  Film & Video      USD  11/1/2017 30000.00000   \n",
       "2  Narrative Film  Film & Video      USD  2/26/2013 45000.00000   \n",
       "3           Music         Music      USD  4/16/2012  5000.00000   \n",
       "5     Restaurants          Food      USD   4/1/2016 50000.00000   \n",
       "\n",
       "          launched     pledged       state  backers country  usd pledged  \\\n",
       "0  8/11/2015 12:12     0.00000      failed        0      GB      0.00000   \n",
       "1    9/2/2017 4:43  2421.00000      failed       15      US    100.00000   \n",
       "2   1/12/2013 0:20   220.00000      failed        3      US    220.00000   \n",
       "3   3/17/2012 3:24     1.00000      failed        1      US      1.00000   \n",
       "5  2/26/2016 13:38 52375.00000  successful      224      US  52375.00000   \n",
       "\n",
       "   usd_pledged_real  usd_goal_real  \n",
       "0           0.00000     1533.95000  \n",
       "1        2421.00000    30000.00000  \n",
       "2         220.00000    45000.00000  \n",
       "3           1.00000     5000.00000  \n",
       "5       52375.00000    50000.00000  "
      ]
     },
     "execution_count": 4,
     "metadata": {},
     "output_type": "execute_result"
    }
   ],
   "source": [
    "kick.head()"
   ]
  },
  {
   "cell_type": "code",
   "execution_count": 5,
   "metadata": {},
   "outputs": [
    {
     "data": {
      "text/plain": [
       "ID                    0\n",
       "name                  3\n",
       "category              0\n",
       "main_category         0\n",
       "currency              0\n",
       "deadline              0\n",
       "goal                  0\n",
       "launched              0\n",
       "pledged               0\n",
       "state                 0\n",
       "backers               0\n",
       "country               0\n",
       "usd pledged         210\n",
       "usd_pledged_real      0\n",
       "usd_goal_real         0\n",
       "dtype: int64"
      ]
     },
     "execution_count": 5,
     "metadata": {},
     "output_type": "execute_result"
    }
   ],
   "source": [
    "#checking NA values \n",
    "kick.isna().sum()\n",
    "\n",
    "#checking the count of success and failures \n",
    "#kick['state'].value_counts()\n",
    "\n",
    "#kick['currency'].value_counts()"
   ]
  },
  {
   "cell_type": "code",
   "execution_count": 6,
   "metadata": {
    "scrolled": false
   },
   "outputs": [
    {
     "data": {
      "text/html": [
       "<div>\n",
       "<style scoped>\n",
       "    .dataframe tbody tr th:only-of-type {\n",
       "        vertical-align: middle;\n",
       "    }\n",
       "\n",
       "    .dataframe tbody tr th {\n",
       "        vertical-align: top;\n",
       "    }\n",
       "\n",
       "    .dataframe thead th {\n",
       "        text-align: right;\n",
       "    }\n",
       "</style>\n",
       "<table border=\"1\" class=\"dataframe\">\n",
       "  <thead>\n",
       "    <tr style=\"text-align: right;\">\n",
       "      <th></th>\n",
       "      <th>ID</th>\n",
       "      <th>goal</th>\n",
       "      <th>pledged</th>\n",
       "      <th>backers</th>\n",
       "      <th>usd pledged</th>\n",
       "      <th>usd_pledged_real</th>\n",
       "      <th>usd_goal_real</th>\n",
       "    </tr>\n",
       "  </thead>\n",
       "  <tbody>\n",
       "    <tr>\n",
       "      <th>count</th>\n",
       "      <td>331675.00000</td>\n",
       "      <td>331675.00000</td>\n",
       "      <td>331675.00000</td>\n",
       "      <td>331675.00000</td>\n",
       "      <td>331465.00000</td>\n",
       "      <td>331675.00000</td>\n",
       "      <td>331675.00000</td>\n",
       "    </tr>\n",
       "    <tr>\n",
       "      <th>mean</th>\n",
       "      <td>1074270646.28906</td>\n",
       "      <td>44251.57306</td>\n",
       "      <td>10584.00355</td>\n",
       "      <td>116.38158</td>\n",
       "      <td>7684.56901</td>\n",
       "      <td>9943.46126</td>\n",
       "      <td>41510.00154</td>\n",
       "    </tr>\n",
       "    <tr>\n",
       "      <th>std</th>\n",
       "      <td>619192392.79953</td>\n",
       "      <td>1117916.69906</td>\n",
       "      <td>101591.73182</td>\n",
       "      <td>965.42727</td>\n",
       "      <td>83209.37721</td>\n",
       "      <td>96732.93417</td>\n",
       "      <td>1108929.66305</td>\n",
       "    </tr>\n",
       "    <tr>\n",
       "      <th>min</th>\n",
       "      <td>5971.00000</td>\n",
       "      <td>0.01000</td>\n",
       "      <td>0.00000</td>\n",
       "      <td>0.00000</td>\n",
       "      <td>0.00000</td>\n",
       "      <td>0.00000</td>\n",
       "      <td>0.01000</td>\n",
       "    </tr>\n",
       "    <tr>\n",
       "      <th>25%</th>\n",
       "      <td>537172480.00000</td>\n",
       "      <td>2000.00000</td>\n",
       "      <td>50.00000</td>\n",
       "      <td>2.00000</td>\n",
       "      <td>25.00000</td>\n",
       "      <td>50.00000</td>\n",
       "      <td>2000.00000</td>\n",
       "    </tr>\n",
       "    <tr>\n",
       "      <th>50%</th>\n",
       "      <td>1074573261.00000</td>\n",
       "      <td>5000.00000</td>\n",
       "      <td>782.00000</td>\n",
       "      <td>15.00000</td>\n",
       "      <td>502.00000</td>\n",
       "      <td>788.00000</td>\n",
       "      <td>5000.00000</td>\n",
       "    </tr>\n",
       "    <tr>\n",
       "      <th>75%</th>\n",
       "      <td>1609843616.50000</td>\n",
       "      <td>15000.00000</td>\n",
       "      <td>4657.00000</td>\n",
       "      <td>63.00000</td>\n",
       "      <td>3421.00000</td>\n",
       "      <td>4608.00000</td>\n",
       "      <td>15000.00000</td>\n",
       "    </tr>\n",
       "    <tr>\n",
       "      <th>max</th>\n",
       "      <td>2147476221.00000</td>\n",
       "      <td>100000000.00000</td>\n",
       "      <td>20338986.27000</td>\n",
       "      <td>219382.00000</td>\n",
       "      <td>20338986.27000</td>\n",
       "      <td>20338986.27000</td>\n",
       "      <td>166361390.70000</td>\n",
       "    </tr>\n",
       "  </tbody>\n",
       "</table>\n",
       "</div>"
      ],
      "text/plain": [
       "                    ID            goal        pledged      backers  \\\n",
       "count     331675.00000    331675.00000   331675.00000 331675.00000   \n",
       "mean  1074270646.28906     44251.57306    10584.00355    116.38158   \n",
       "std    619192392.79953   1117916.69906   101591.73182    965.42727   \n",
       "min         5971.00000         0.01000        0.00000      0.00000   \n",
       "25%    537172480.00000      2000.00000       50.00000      2.00000   \n",
       "50%   1074573261.00000      5000.00000      782.00000     15.00000   \n",
       "75%   1609843616.50000     15000.00000     4657.00000     63.00000   \n",
       "max   2147476221.00000 100000000.00000 20338986.27000 219382.00000   \n",
       "\n",
       "         usd pledged  usd_pledged_real   usd_goal_real  \n",
       "count   331465.00000      331675.00000    331675.00000  \n",
       "mean      7684.56901        9943.46126     41510.00154  \n",
       "std      83209.37721       96732.93417   1108929.66305  \n",
       "min          0.00000           0.00000         0.01000  \n",
       "25%         25.00000          50.00000      2000.00000  \n",
       "50%        502.00000         788.00000      5000.00000  \n",
       "75%       3421.00000        4608.00000     15000.00000  \n",
       "max   20338986.27000    20338986.27000 166361390.70000  "
      ]
     },
     "execution_count": 6,
     "metadata": {},
     "output_type": "execute_result"
    }
   ],
   "source": [
    "kick.describe()"
   ]
  },
  {
   "cell_type": "code",
   "execution_count": 7,
   "metadata": {},
   "outputs": [],
   "source": [
    "#creating a new column with number of months \n",
    "import datetime\n",
    "from dateutil.relativedelta import relativedelta \n",
    "from datetime import date\n",
    "import time\n",
    "\n",
    "#converting deadline string into a date \n",
    "kick['deadline_date'] = pd.to_datetime(kick['deadline']).dt.date\n",
    "\n",
    "#converting launch string into a date \n",
    "\n",
    "kick['launched_date'] = pd.to_datetime(kick['launched']).dt.date"
   ]
  },
  {
   "cell_type": "code",
   "execution_count": 8,
   "metadata": {
    "scrolled": true
   },
   "outputs": [
    {
     "data": {
      "text/html": [
       "<div>\n",
       "<style scoped>\n",
       "    .dataframe tbody tr th:only-of-type {\n",
       "        vertical-align: middle;\n",
       "    }\n",
       "\n",
       "    .dataframe tbody tr th {\n",
       "        vertical-align: top;\n",
       "    }\n",
       "\n",
       "    .dataframe thead th {\n",
       "        text-align: right;\n",
       "    }\n",
       "</style>\n",
       "<table border=\"1\" class=\"dataframe\">\n",
       "  <thead>\n",
       "    <tr style=\"text-align: right;\">\n",
       "      <th></th>\n",
       "      <th>ID</th>\n",
       "      <th>goal</th>\n",
       "      <th>pledged</th>\n",
       "      <th>backers</th>\n",
       "      <th>usd pledged</th>\n",
       "      <th>usd_pledged_real</th>\n",
       "      <th>usd_goal_real</th>\n",
       "      <th>diff_days</th>\n",
       "    </tr>\n",
       "  </thead>\n",
       "  <tbody>\n",
       "    <tr>\n",
       "      <th>count</th>\n",
       "      <td>331675.00000</td>\n",
       "      <td>331675.00000</td>\n",
       "      <td>331675.00000</td>\n",
       "      <td>331675.00000</td>\n",
       "      <td>331465.00000</td>\n",
       "      <td>331675.00000</td>\n",
       "      <td>331675.00000</td>\n",
       "      <td>331675</td>\n",
       "    </tr>\n",
       "    <tr>\n",
       "      <th>mean</th>\n",
       "      <td>1074270646.28906</td>\n",
       "      <td>44251.57306</td>\n",
       "      <td>10584.00355</td>\n",
       "      <td>116.38158</td>\n",
       "      <td>7684.56901</td>\n",
       "      <td>9943.46126</td>\n",
       "      <td>41510.00154</td>\n",
       "      <td>33 days 22:55:01.156855</td>\n",
       "    </tr>\n",
       "    <tr>\n",
       "      <th>std</th>\n",
       "      <td>619192392.79953</td>\n",
       "      <td>1117916.69906</td>\n",
       "      <td>101591.73182</td>\n",
       "      <td>965.42727</td>\n",
       "      <td>83209.37721</td>\n",
       "      <td>96732.93417</td>\n",
       "      <td>1108929.66305</td>\n",
       "      <td>12 days 17:07:11.920645</td>\n",
       "    </tr>\n",
       "    <tr>\n",
       "      <th>min</th>\n",
       "      <td>5971.00000</td>\n",
       "      <td>0.01000</td>\n",
       "      <td>0.00000</td>\n",
       "      <td>0.00000</td>\n",
       "      <td>0.00000</td>\n",
       "      <td>0.00000</td>\n",
       "      <td>0.01000</td>\n",
       "      <td>1 days 00:00:00</td>\n",
       "    </tr>\n",
       "    <tr>\n",
       "      <th>25%</th>\n",
       "      <td>537172480.00000</td>\n",
       "      <td>2000.00000</td>\n",
       "      <td>50.00000</td>\n",
       "      <td>2.00000</td>\n",
       "      <td>25.00000</td>\n",
       "      <td>50.00000</td>\n",
       "      <td>2000.00000</td>\n",
       "      <td>30 days 00:00:00</td>\n",
       "    </tr>\n",
       "    <tr>\n",
       "      <th>50%</th>\n",
       "      <td>1074573261.00000</td>\n",
       "      <td>5000.00000</td>\n",
       "      <td>782.00000</td>\n",
       "      <td>15.00000</td>\n",
       "      <td>502.00000</td>\n",
       "      <td>788.00000</td>\n",
       "      <td>5000.00000</td>\n",
       "      <td>30 days 00:00:00</td>\n",
       "    </tr>\n",
       "    <tr>\n",
       "      <th>75%</th>\n",
       "      <td>1609843616.50000</td>\n",
       "      <td>15000.00000</td>\n",
       "      <td>4657.00000</td>\n",
       "      <td>63.00000</td>\n",
       "      <td>3421.00000</td>\n",
       "      <td>4608.00000</td>\n",
       "      <td>15000.00000</td>\n",
       "      <td>36 days 00:00:00</td>\n",
       "    </tr>\n",
       "    <tr>\n",
       "      <th>max</th>\n",
       "      <td>2147476221.00000</td>\n",
       "      <td>100000000.00000</td>\n",
       "      <td>20338986.27000</td>\n",
       "      <td>219382.00000</td>\n",
       "      <td>20338986.27000</td>\n",
       "      <td>20338986.27000</td>\n",
       "      <td>166361390.70000</td>\n",
       "      <td>92 days 00:00:00</td>\n",
       "    </tr>\n",
       "  </tbody>\n",
       "</table>\n",
       "</div>"
      ],
      "text/plain": [
       "                    ID            goal        pledged      backers  \\\n",
       "count     331675.00000    331675.00000   331675.00000 331675.00000   \n",
       "mean  1074270646.28906     44251.57306    10584.00355    116.38158   \n",
       "std    619192392.79953   1117916.69906   101591.73182    965.42727   \n",
       "min         5971.00000         0.01000        0.00000      0.00000   \n",
       "25%    537172480.00000      2000.00000       50.00000      2.00000   \n",
       "50%   1074573261.00000      5000.00000      782.00000     15.00000   \n",
       "75%   1609843616.50000     15000.00000     4657.00000     63.00000   \n",
       "max   2147476221.00000 100000000.00000 20338986.27000 219382.00000   \n",
       "\n",
       "         usd pledged  usd_pledged_real   usd_goal_real  \\\n",
       "count   331465.00000      331675.00000    331675.00000   \n",
       "mean      7684.56901        9943.46126     41510.00154   \n",
       "std      83209.37721       96732.93417   1108929.66305   \n",
       "min          0.00000           0.00000         0.01000   \n",
       "25%         25.00000          50.00000      2000.00000   \n",
       "50%        502.00000         788.00000      5000.00000   \n",
       "75%       3421.00000        4608.00000     15000.00000   \n",
       "max   20338986.27000    20338986.27000 166361390.70000   \n",
       "\n",
       "                     diff_days  \n",
       "count                   331675  \n",
       "mean   33 days 22:55:01.156855  \n",
       "std    12 days 17:07:11.920645  \n",
       "min            1 days 00:00:00  \n",
       "25%           30 days 00:00:00  \n",
       "50%           30 days 00:00:00  \n",
       "75%           36 days 00:00:00  \n",
       "max           92 days 00:00:00  "
      ]
     },
     "execution_count": 8,
     "metadata": {},
     "output_type": "execute_result"
    }
   ],
   "source": [
    "#calculating the difference between the dates \n",
    "#https://medium.com/@bramtunggala/a-simple-way-to-finding-the-difference-between-two-dates-in-pandas-179d2714b6c \n",
    "#diff_days is the difference in months between the date of deadline and launched \n",
    "\n",
    "kick['diff_days'] = kick['deadline_date'] - kick['launched_date']\n",
    "\n",
    "#we had originally thought of coverting it to months, but I feel like days is better as the maximum is 92 days. \n",
    "kick.describe()"
   ]
  },
  {
   "cell_type": "code",
   "execution_count": 9,
   "metadata": {},
   "outputs": [],
   "source": [
    "launched = pd.to_datetime(kick['launched']) \n",
    "deadline = pd.to_datetime(kick['deadline']) "
   ]
  },
  {
   "cell_type": "code",
   "execution_count": 11,
   "metadata": {},
   "outputs": [],
   "source": [
    "# Creating deadline_year\n",
    "kick['deadline_year'] = deadline.dt.year\n",
    "\n",
    "# Creating deadline month\n",
    "kick['deadline_month'] = deadline.dt.month\n",
    "\n",
    "# Creating deadline day\n",
    "kick['deadline_day'] = deadline.dt.day\n",
    "\n",
    "# Creating deadline weekday\n",
    "kick['deadline_weekday'] = deadline.dt.weekday #0 is Monday and 6 is Sunday"
   ]
  },
  {
   "cell_type": "code",
   "execution_count": 12,
   "metadata": {},
   "outputs": [],
   "source": [
    "# Creating launched_year\n",
    "kick['launched_year'] = launched.dt.year\n",
    "\n",
    "# Creating launched month\n",
    "kick['launched_month'] = launched.dt.month\n",
    "\n",
    "# Creating launched day\n",
    "kick['launched_day'] = launched.dt.day\n",
    "\n",
    "# Creating launched weekday\n",
    "kick['launched_weekday'] = launched.dt.weekday #0 is Monday and 6 is Sunday\n",
    "\n",
    "kick['launched_hour'] = launched.dt.hour"
   ]
  },
  {
   "cell_type": "code",
   "execution_count": 13,
   "metadata": {},
   "outputs": [],
   "source": [
    "#converting the difference in days to an integer \n",
    "kick['diff_days'] = kick['diff_days'].dt.days"
   ]
  },
  {
   "cell_type": "code",
   "execution_count": 15,
   "metadata": {},
   "outputs": [
    {
     "data": {
      "text/plain": [
       "ID                    int64\n",
       "name                 object\n",
       "category             object\n",
       "main_category        object\n",
       "currency             object\n",
       "deadline             object\n",
       "goal                float64\n",
       "launched             object\n",
       "pledged             float64\n",
       "state                object\n",
       "backers               int64\n",
       "country              object\n",
       "usd pledged         float64\n",
       "usd_pledged_real    float64\n",
       "usd_goal_real       float64\n",
       "deadline_date        object\n",
       "launched_date        object\n",
       "diff_days             int64\n",
       "deadline_year         int64\n",
       "deadline_month        int64\n",
       "deadline_day          int64\n",
       "deadline_weekday      int64\n",
       "launched_year         int64\n",
       "launched_month        int64\n",
       "launched_day          int64\n",
       "launched_weekday      int64\n",
       "launched_hour         int64\n",
       "dtype: object"
      ]
     },
     "execution_count": 15,
     "metadata": {},
     "output_type": "execute_result"
    }
   ],
   "source": [
    "#checking columns \n",
    "kick.head()\n",
    "\n",
    "#checking column types \n",
    "kick.dtypes"
   ]
  },
  {
   "cell_type": "code",
   "execution_count": 16,
   "metadata": {},
   "outputs": [
    {
     "name": "stderr",
     "output_type": "stream",
     "text": [
      "C:\\Users\\mayaa\\Anaconda3\\lib\\site-packages\\sklearn\\preprocessing\\_label.py:251: DataConversionWarning: A column-vector y was passed when a 1d array was expected. Please change the shape of y to (n_samples, ), for example using ravel().\n",
      "  y = column_or_1d(y, warn=True)\n"
     ]
    }
   ],
   "source": [
    "#Converting main category to numerical so we can see its correlation to the state\n",
    "from sklearn.preprocessing import LabelEncoder\n",
    "\n",
    "#------------------------------------------------------------------------\n",
    "#converting country to numerical \n",
    "kick['country'].value_counts()\n",
    "\n",
    "#saving the values to an object \n",
    "kick_country_cat = kick[['country']].values\n",
    "\n",
    "#using the label encoder to change the categorical variables to numeric \n",
    "le = LabelEncoder()\n",
    "\n",
    "cn = le.fit_transform(kick_country_cat)\n",
    "\n",
    "kick['country_recoded'] = cn \n",
    "\n",
    "#-------------------------------------------------------------------------\n",
    "#converting main category to numerical \n",
    "kick['main_category'].value_counts()\n",
    "\n",
    "#saving the values to an object \n",
    "kick_mc_cat = kick[['main_category']].values\n",
    "\n",
    "#using the label encoder to change the categorical variables to numeric \n",
    "le = LabelEncoder()\n",
    "\n",
    "mc = le.fit_transform(kick_mc_cat)\n",
    "\n",
    "kick['main_category_recoded'] = mc\n",
    "\n",
    "#-------------------------------------------------------------------------\n",
    "#converting sub-category to numerical \n",
    "kick['category'].value_counts()\n",
    "\n",
    "#saving the values to an object \n",
    "kick_category_recoded = kick[['category']].values\n",
    "\n",
    "#using the label encoder to change the categorical variables to numeric \n",
    "le = LabelEncoder()\n",
    "\n",
    "sub_cat = le.fit_transform(kick_category_recoded)\n",
    "\n",
    "kick['subcategory_recoded'] = sub_cat"
   ]
  },
  {
   "cell_type": "code",
   "execution_count": 17,
   "metadata": {
    "scrolled": true
   },
   "outputs": [
    {
     "data": {
      "text/html": [
       "<div>\n",
       "<style scoped>\n",
       "    .dataframe tbody tr th:only-of-type {\n",
       "        vertical-align: middle;\n",
       "    }\n",
       "\n",
       "    .dataframe tbody tr th {\n",
       "        vertical-align: top;\n",
       "    }\n",
       "\n",
       "    .dataframe thead th {\n",
       "        text-align: right;\n",
       "    }\n",
       "</style>\n",
       "<table border=\"1\" class=\"dataframe\">\n",
       "  <thead>\n",
       "    <tr style=\"text-align: right;\">\n",
       "      <th></th>\n",
       "      <th>ID</th>\n",
       "      <th>name</th>\n",
       "      <th>category</th>\n",
       "      <th>main_category</th>\n",
       "      <th>currency</th>\n",
       "      <th>deadline</th>\n",
       "      <th>goal</th>\n",
       "      <th>launched</th>\n",
       "      <th>pledged</th>\n",
       "      <th>state</th>\n",
       "      <th>...</th>\n",
       "      <th>deadline_day</th>\n",
       "      <th>deadline_weekday</th>\n",
       "      <th>launched_year</th>\n",
       "      <th>launched_month</th>\n",
       "      <th>launched_day</th>\n",
       "      <th>launched_weekday</th>\n",
       "      <th>launched_hour</th>\n",
       "      <th>country_recoded</th>\n",
       "      <th>main_category_recoded</th>\n",
       "      <th>subcategory_recoded</th>\n",
       "    </tr>\n",
       "  </thead>\n",
       "  <tbody>\n",
       "    <tr>\n",
       "      <th>0</th>\n",
       "      <td>1000002330</td>\n",
       "      <td>The Songs of Adelaide &amp; Abullah</td>\n",
       "      <td>Poetry</td>\n",
       "      <td>Publishing</td>\n",
       "      <td>GBP</td>\n",
       "      <td>10/9/2015</td>\n",
       "      <td>1000.00000</td>\n",
       "      <td>8/11/2015 12:12</td>\n",
       "      <td>0.00000</td>\n",
       "      <td>failed</td>\n",
       "      <td>...</td>\n",
       "      <td>9</td>\n",
       "      <td>4</td>\n",
       "      <td>2015</td>\n",
       "      <td>8</td>\n",
       "      <td>11</td>\n",
       "      <td>1</td>\n",
       "      <td>12</td>\n",
       "      <td>9</td>\n",
       "      <td>12</td>\n",
       "      <td>108</td>\n",
       "    </tr>\n",
       "    <tr>\n",
       "      <th>1</th>\n",
       "      <td>1000003930</td>\n",
       "      <td>Greeting From Earth: ZGAC Arts Capsule For ET</td>\n",
       "      <td>Narrative Film</td>\n",
       "      <td>Film &amp; Video</td>\n",
       "      <td>USD</td>\n",
       "      <td>11/1/2017</td>\n",
       "      <td>30000.00000</td>\n",
       "      <td>9/2/2017 4:43</td>\n",
       "      <td>2421.00000</td>\n",
       "      <td>failed</td>\n",
       "      <td>...</td>\n",
       "      <td>1</td>\n",
       "      <td>2</td>\n",
       "      <td>2017</td>\n",
       "      <td>9</td>\n",
       "      <td>2</td>\n",
       "      <td>5</td>\n",
       "      <td>4</td>\n",
       "      <td>22</td>\n",
       "      <td>6</td>\n",
       "      <td>93</td>\n",
       "    </tr>\n",
       "    <tr>\n",
       "      <th>2</th>\n",
       "      <td>1000004038</td>\n",
       "      <td>Where is Hank?</td>\n",
       "      <td>Narrative Film</td>\n",
       "      <td>Film &amp; Video</td>\n",
       "      <td>USD</td>\n",
       "      <td>2/26/2013</td>\n",
       "      <td>45000.00000</td>\n",
       "      <td>1/12/2013 0:20</td>\n",
       "      <td>220.00000</td>\n",
       "      <td>failed</td>\n",
       "      <td>...</td>\n",
       "      <td>26</td>\n",
       "      <td>1</td>\n",
       "      <td>2013</td>\n",
       "      <td>1</td>\n",
       "      <td>12</td>\n",
       "      <td>5</td>\n",
       "      <td>0</td>\n",
       "      <td>22</td>\n",
       "      <td>6</td>\n",
       "      <td>93</td>\n",
       "    </tr>\n",
       "    <tr>\n",
       "      <th>3</th>\n",
       "      <td>1000007540</td>\n",
       "      <td>ToshiCapital Rekordz Needs Help to Complete Album</td>\n",
       "      <td>Music</td>\n",
       "      <td>Music</td>\n",
       "      <td>USD</td>\n",
       "      <td>4/16/2012</td>\n",
       "      <td>5000.00000</td>\n",
       "      <td>3/17/2012 3:24</td>\n",
       "      <td>1.00000</td>\n",
       "      <td>failed</td>\n",
       "      <td>...</td>\n",
       "      <td>16</td>\n",
       "      <td>0</td>\n",
       "      <td>2012</td>\n",
       "      <td>3</td>\n",
       "      <td>17</td>\n",
       "      <td>5</td>\n",
       "      <td>3</td>\n",
       "      <td>22</td>\n",
       "      <td>10</td>\n",
       "      <td>90</td>\n",
       "    </tr>\n",
       "    <tr>\n",
       "      <th>5</th>\n",
       "      <td>1000014025</td>\n",
       "      <td>Monarch Espresso Bar</td>\n",
       "      <td>Restaurants</td>\n",
       "      <td>Food</td>\n",
       "      <td>USD</td>\n",
       "      <td>4/1/2016</td>\n",
       "      <td>50000.00000</td>\n",
       "      <td>2/26/2016 13:38</td>\n",
       "      <td>52375.00000</td>\n",
       "      <td>successful</td>\n",
       "      <td>...</td>\n",
       "      <td>1</td>\n",
       "      <td>4</td>\n",
       "      <td>2016</td>\n",
       "      <td>2</td>\n",
       "      <td>26</td>\n",
       "      <td>4</td>\n",
       "      <td>13</td>\n",
       "      <td>22</td>\n",
       "      <td>7</td>\n",
       "      <td>123</td>\n",
       "    </tr>\n",
       "  </tbody>\n",
       "</table>\n",
       "<p>5 rows × 30 columns</p>\n",
       "</div>"
      ],
      "text/plain": [
       "           ID                                               name  \\\n",
       "0  1000002330                    The Songs of Adelaide & Abullah   \n",
       "1  1000003930      Greeting From Earth: ZGAC Arts Capsule For ET   \n",
       "2  1000004038                                     Where is Hank?   \n",
       "3  1000007540  ToshiCapital Rekordz Needs Help to Complete Album   \n",
       "5  1000014025                               Monarch Espresso Bar   \n",
       "\n",
       "         category main_category currency   deadline        goal  \\\n",
       "0          Poetry    Publishing      GBP  10/9/2015  1000.00000   \n",
       "1  Narrative Film  Film & Video      USD  11/1/2017 30000.00000   \n",
       "2  Narrative Film  Film & Video      USD  2/26/2013 45000.00000   \n",
       "3           Music         Music      USD  4/16/2012  5000.00000   \n",
       "5     Restaurants          Food      USD   4/1/2016 50000.00000   \n",
       "\n",
       "          launched     pledged       state  ...  deadline_day  \\\n",
       "0  8/11/2015 12:12     0.00000      failed  ...             9   \n",
       "1    9/2/2017 4:43  2421.00000      failed  ...             1   \n",
       "2   1/12/2013 0:20   220.00000      failed  ...            26   \n",
       "3   3/17/2012 3:24     1.00000      failed  ...            16   \n",
       "5  2/26/2016 13:38 52375.00000  successful  ...             1   \n",
       "\n",
       "  deadline_weekday  launched_year  launched_month  launched_day  \\\n",
       "0                4           2015               8            11   \n",
       "1                2           2017               9             2   \n",
       "2                1           2013               1            12   \n",
       "3                0           2012               3            17   \n",
       "5                4           2016               2            26   \n",
       "\n",
       "  launched_weekday launched_hour  country_recoded  main_category_recoded  \\\n",
       "0                1            12                9                     12   \n",
       "1                5             4               22                      6   \n",
       "2                5             0               22                      6   \n",
       "3                5             3               22                     10   \n",
       "5                4            13               22                      7   \n",
       "\n",
       "   subcategory_recoded  \n",
       "0                  108  \n",
       "1                   93  \n",
       "2                   93  \n",
       "3                   90  \n",
       "5                  123  \n",
       "\n",
       "[5 rows x 30 columns]"
      ]
     },
     "execution_count": 17,
     "metadata": {},
     "output_type": "execute_result"
    }
   ],
   "source": [
    "kick.head()"
   ]
  },
  {
   "cell_type": "code",
   "execution_count": 18,
   "metadata": {},
   "outputs": [],
   "source": [
    "kick['name_length'] = kick['name'].str.len()\n"
   ]
  },
  {
   "cell_type": "code",
   "execution_count": 21,
   "metadata": {},
   "outputs": [
    {
     "name": "stdout",
     "output_type": "stream",
     "text": [
      "['ID', 'name', 'category', 'main_category', 'currency', 'deadline', 'goal', 'launched', 'pledged', 'state', 'backers', 'country', 'usd pledged', 'usd_pledged_real', 'usd_goal_real', 'deadline_date', 'launched_date', 'diff_days', 'deadline_year', 'deadline_month', 'deadline_day', 'deadline_weekday', 'launched_year', 'launched_month', 'launched_day', 'launched_weekday', 'launched_hour', 'country_recoded', 'main_category_recoded', 'subcategory_recoded', 'name_length', 'recoded_target']\n"
     ]
    }
   ],
   "source": [
    "#function to recode the target to numerical so we can look at the correaltion between target and other variables as well \n",
    "def recoded(x):\n",
    "    if x=='successful':\n",
    "        return 1\n",
    "    if x=='failed':\n",
    "        return 0\n",
    "    \n",
    "#creating a new column with recoded target \n",
    "kick['recoded_target'] = kick['state'].apply(recoded)\n",
    "\n",
    "kick.head()\n",
    "print(list(kick))"
   ]
  },
  {
   "cell_type": "code",
   "execution_count": 20,
   "metadata": {},
   "outputs": [],
   "source": [
    "kick.to_csv('C:/Users/mayaa/OneDrive/Documents/project_BA/Kickstarter-Project-/kick_final.csv', index = None)"
   ]
  },
  {
   "cell_type": "code",
   "execution_count": 22,
   "metadata": {},
   "outputs": [
    {
     "name": "stdout",
     "output_type": "stream",
     "text": [
      "['ID', 'name', 'category', 'main_category', 'currency', 'deadline', 'goal', 'launched', 'pledged', 'state', 'backers', 'country', 'usd pledged', 'usd_pledged_real', 'usd_goal_real', 'deadline_date', 'launched_date', 'diff_days', 'deadline_year', 'deadline_month', 'deadline_day', 'deadline_weekday', 'launched_year', 'launched_month', 'launched_day', 'launched_weekday', 'launched_hour', 'country_recoded', 'main_category_recoded', 'subcategory_recoded', 'name_length', 'recoded_target']\n"
     ]
    }
   ],
   "source": [
    "print(list(kick))\n",
    "\n",
    "#selecting only the columns we might want to use \n",
    "#saving only the columns needed for modeling + the ID column for refrence \n",
    "kick1 = kick.iloc[:, np.r_[0,14,17:len(kick.columns)]]"
   ]
  },
  {
   "cell_type": "code",
   "execution_count": 24,
   "metadata": {},
   "outputs": [
    {
     "data": {
      "text/html": [
       "<div>\n",
       "<style scoped>\n",
       "    .dataframe tbody tr th:only-of-type {\n",
       "        vertical-align: middle;\n",
       "    }\n",
       "\n",
       "    .dataframe tbody tr th {\n",
       "        vertical-align: top;\n",
       "    }\n",
       "\n",
       "    .dataframe thead th {\n",
       "        text-align: right;\n",
       "    }\n",
       "</style>\n",
       "<table border=\"1\" class=\"dataframe\">\n",
       "  <thead>\n",
       "    <tr style=\"text-align: right;\">\n",
       "      <th></th>\n",
       "      <th>ID</th>\n",
       "      <th>usd_goal_real</th>\n",
       "      <th>diff_days</th>\n",
       "      <th>deadline_year</th>\n",
       "      <th>deadline_month</th>\n",
       "      <th>deadline_day</th>\n",
       "      <th>deadline_weekday</th>\n",
       "      <th>launched_year</th>\n",
       "      <th>launched_month</th>\n",
       "      <th>launched_day</th>\n",
       "      <th>launched_weekday</th>\n",
       "      <th>launched_hour</th>\n",
       "      <th>country_recoded</th>\n",
       "      <th>main_category_recoded</th>\n",
       "      <th>subcategory_recoded</th>\n",
       "      <th>name_length</th>\n",
       "      <th>recoded_target</th>\n",
       "    </tr>\n",
       "  </thead>\n",
       "  <tbody>\n",
       "    <tr>\n",
       "      <th>0</th>\n",
       "      <td>1000002330</td>\n",
       "      <td>1533.95000</td>\n",
       "      <td>59</td>\n",
       "      <td>2015</td>\n",
       "      <td>10</td>\n",
       "      <td>9</td>\n",
       "      <td>4</td>\n",
       "      <td>2015</td>\n",
       "      <td>8</td>\n",
       "      <td>11</td>\n",
       "      <td>1</td>\n",
       "      <td>12</td>\n",
       "      <td>9</td>\n",
       "      <td>12</td>\n",
       "      <td>108</td>\n",
       "      <td>31.00000</td>\n",
       "      <td>0</td>\n",
       "    </tr>\n",
       "    <tr>\n",
       "      <th>1</th>\n",
       "      <td>1000003930</td>\n",
       "      <td>30000.00000</td>\n",
       "      <td>60</td>\n",
       "      <td>2017</td>\n",
       "      <td>11</td>\n",
       "      <td>1</td>\n",
       "      <td>2</td>\n",
       "      <td>2017</td>\n",
       "      <td>9</td>\n",
       "      <td>2</td>\n",
       "      <td>5</td>\n",
       "      <td>4</td>\n",
       "      <td>22</td>\n",
       "      <td>6</td>\n",
       "      <td>93</td>\n",
       "      <td>45.00000</td>\n",
       "      <td>0</td>\n",
       "    </tr>\n",
       "    <tr>\n",
       "      <th>2</th>\n",
       "      <td>1000004038</td>\n",
       "      <td>45000.00000</td>\n",
       "      <td>45</td>\n",
       "      <td>2013</td>\n",
       "      <td>2</td>\n",
       "      <td>26</td>\n",
       "      <td>1</td>\n",
       "      <td>2013</td>\n",
       "      <td>1</td>\n",
       "      <td>12</td>\n",
       "      <td>5</td>\n",
       "      <td>0</td>\n",
       "      <td>22</td>\n",
       "      <td>6</td>\n",
       "      <td>93</td>\n",
       "      <td>14.00000</td>\n",
       "      <td>0</td>\n",
       "    </tr>\n",
       "    <tr>\n",
       "      <th>3</th>\n",
       "      <td>1000007540</td>\n",
       "      <td>5000.00000</td>\n",
       "      <td>30</td>\n",
       "      <td>2012</td>\n",
       "      <td>4</td>\n",
       "      <td>16</td>\n",
       "      <td>0</td>\n",
       "      <td>2012</td>\n",
       "      <td>3</td>\n",
       "      <td>17</td>\n",
       "      <td>5</td>\n",
       "      <td>3</td>\n",
       "      <td>22</td>\n",
       "      <td>10</td>\n",
       "      <td>90</td>\n",
       "      <td>49.00000</td>\n",
       "      <td>0</td>\n",
       "    </tr>\n",
       "    <tr>\n",
       "      <th>5</th>\n",
       "      <td>1000014025</td>\n",
       "      <td>50000.00000</td>\n",
       "      <td>35</td>\n",
       "      <td>2016</td>\n",
       "      <td>4</td>\n",
       "      <td>1</td>\n",
       "      <td>4</td>\n",
       "      <td>2016</td>\n",
       "      <td>2</td>\n",
       "      <td>26</td>\n",
       "      <td>4</td>\n",
       "      <td>13</td>\n",
       "      <td>22</td>\n",
       "      <td>7</td>\n",
       "      <td>123</td>\n",
       "      <td>20.00000</td>\n",
       "      <td>1</td>\n",
       "    </tr>\n",
       "  </tbody>\n",
       "</table>\n",
       "</div>"
      ],
      "text/plain": [
       "           ID  usd_goal_real  diff_days  deadline_year  deadline_month  \\\n",
       "0  1000002330     1533.95000         59           2015              10   \n",
       "1  1000003930    30000.00000         60           2017              11   \n",
       "2  1000004038    45000.00000         45           2013               2   \n",
       "3  1000007540     5000.00000         30           2012               4   \n",
       "5  1000014025    50000.00000         35           2016               4   \n",
       "\n",
       "   deadline_day  deadline_weekday  launched_year  launched_month  \\\n",
       "0             9                 4           2015               8   \n",
       "1             1                 2           2017               9   \n",
       "2            26                 1           2013               1   \n",
       "3            16                 0           2012               3   \n",
       "5             1                 4           2016               2   \n",
       "\n",
       "   launched_day  launched_weekday  launched_hour  country_recoded  \\\n",
       "0            11                 1             12                9   \n",
       "1             2                 5              4               22   \n",
       "2            12                 5              0               22   \n",
       "3            17                 5              3               22   \n",
       "5            26                 4             13               22   \n",
       "\n",
       "   main_category_recoded  subcategory_recoded  name_length  recoded_target  \n",
       "0                     12                  108     31.00000               0  \n",
       "1                      6                   93     45.00000               0  \n",
       "2                      6                   93     14.00000               0  \n",
       "3                     10                   90     49.00000               0  \n",
       "5                      7                  123     20.00000               1  "
      ]
     },
     "execution_count": 24,
     "metadata": {},
     "output_type": "execute_result"
    }
   ],
   "source": [
    "kick1.head()"
   ]
  },
  {
   "cell_type": "code",
   "execution_count": 25,
   "metadata": {},
   "outputs": [
    {
     "data": {
      "text/plain": [
       "<matplotlib.axes._subplots.AxesSubplot at 0x10f62653e48>"
      ]
     },
     "execution_count": 25,
     "metadata": {},
     "output_type": "execute_result"
    },
    {
     "data": {
      "image/png": "[encoded data removed]",
      "text/plain": [
       "<Figure size 792x648 with 2 Axes>"
      ]
     },
     "metadata": {
      "needs_background": "light"
     },
     "output_type": "display_data"
    }
   ],
   "source": [
    "#correlation matrix \n",
    "corrmatrix = kick1.corr()\n",
    "corrmatrix \n",
    "\n",
    "#not sure how to do this because there are SO many categories, but we might have to recode the category in some way but it has 21,000+ categories \n",
    "\n",
    "#prettier correlation matrix \n",
    "#SOURCE: https://seaborn.pydata.org/examples/many_pairwise_correlations.html\n",
    "mask = np.triu(np.ones_like(corrmatrix, dtype=bool))\n",
    "f, ax = plt.subplots(figsize=(11, 9))\n",
    "cmap = sns.diverging_palette(200, 165, as_cmap=True)\n",
    "sns.heatmap(corrmatrix, mask=mask, cmap=cmap, vmax=.3, center=0,\n",
    "            square=True, linewidths=.5, cbar_kws={\"shrink\": .5})"
   ]
  },
  {
   "cell_type": "code",
   "execution_count": 27,
   "metadata": {
    "scrolled": true
   },
   "outputs": [
    {
     "data": {
      "text/html": [
       "<div>\n",
       "<style scoped>\n",
       "    .dataframe tbody tr th:only-of-type {\n",
       "        vertical-align: middle;\n",
       "    }\n",
       "\n",
       "    .dataframe tbody tr th {\n",
       "        vertical-align: top;\n",
       "    }\n",
       "\n",
       "    .dataframe thead th {\n",
       "        text-align: right;\n",
       "    }\n",
       "</style>\n",
       "<table border=\"1\" class=\"dataframe\">\n",
       "  <thead>\n",
       "    <tr style=\"text-align: right;\">\n",
       "      <th></th>\n",
       "      <th>ID</th>\n",
       "      <th>usd_goal_real</th>\n",
       "      <th>diff_days</th>\n",
       "      <th>deadline_year</th>\n",
       "      <th>deadline_month</th>\n",
       "      <th>deadline_day</th>\n",
       "      <th>deadline_weekday</th>\n",
       "      <th>launched_year</th>\n",
       "      <th>launched_month</th>\n",
       "      <th>launched_day</th>\n",
       "      <th>launched_weekday</th>\n",
       "      <th>launched_hour</th>\n",
       "      <th>country_recoded</th>\n",
       "      <th>main_category_recoded</th>\n",
       "      <th>subcategory_recoded</th>\n",
       "      <th>name_length</th>\n",
       "      <th>recoded_target</th>\n",
       "    </tr>\n",
       "  </thead>\n",
       "  <tbody>\n",
       "    <tr>\n",
       "      <th>0</th>\n",
       "      <td>1000002330</td>\n",
       "      <td>1533.95000</td>\n",
       "      <td>59</td>\n",
       "      <td>2015</td>\n",
       "      <td>10</td>\n",
       "      <td>9</td>\n",
       "      <td>4</td>\n",
       "      <td>2015</td>\n",
       "      <td>8</td>\n",
       "      <td>11</td>\n",
       "      <td>1</td>\n",
       "      <td>12</td>\n",
       "      <td>9</td>\n",
       "      <td>12</td>\n",
       "      <td>108</td>\n",
       "      <td>31.00000</td>\n",
       "      <td>0</td>\n",
       "    </tr>\n",
       "    <tr>\n",
       "      <th>1</th>\n",
       "      <td>1000003930</td>\n",
       "      <td>30000.00000</td>\n",
       "      <td>60</td>\n",
       "      <td>2017</td>\n",
       "      <td>11</td>\n",
       "      <td>1</td>\n",
       "      <td>2</td>\n",
       "      <td>2017</td>\n",
       "      <td>9</td>\n",
       "      <td>2</td>\n",
       "      <td>5</td>\n",
       "      <td>4</td>\n",
       "      <td>22</td>\n",
       "      <td>6</td>\n",
       "      <td>93</td>\n",
       "      <td>45.00000</td>\n",
       "      <td>0</td>\n",
       "    </tr>\n",
       "    <tr>\n",
       "      <th>2</th>\n",
       "      <td>1000004038</td>\n",
       "      <td>45000.00000</td>\n",
       "      <td>45</td>\n",
       "      <td>2013</td>\n",
       "      <td>2</td>\n",
       "      <td>26</td>\n",
       "      <td>1</td>\n",
       "      <td>2013</td>\n",
       "      <td>1</td>\n",
       "      <td>12</td>\n",
       "      <td>5</td>\n",
       "      <td>0</td>\n",
       "      <td>22</td>\n",
       "      <td>6</td>\n",
       "      <td>93</td>\n",
       "      <td>14.00000</td>\n",
       "      <td>0</td>\n",
       "    </tr>\n",
       "    <tr>\n",
       "      <th>3</th>\n",
       "      <td>1000007540</td>\n",
       "      <td>5000.00000</td>\n",
       "      <td>30</td>\n",
       "      <td>2012</td>\n",
       "      <td>4</td>\n",
       "      <td>16</td>\n",
       "      <td>0</td>\n",
       "      <td>2012</td>\n",
       "      <td>3</td>\n",
       "      <td>17</td>\n",
       "      <td>5</td>\n",
       "      <td>3</td>\n",
       "      <td>22</td>\n",
       "      <td>10</td>\n",
       "      <td>90</td>\n",
       "      <td>49.00000</td>\n",
       "      <td>0</td>\n",
       "    </tr>\n",
       "    <tr>\n",
       "      <th>5</th>\n",
       "      <td>1000014025</td>\n",
       "      <td>50000.00000</td>\n",
       "      <td>35</td>\n",
       "      <td>2016</td>\n",
       "      <td>4</td>\n",
       "      <td>1</td>\n",
       "      <td>4</td>\n",
       "      <td>2016</td>\n",
       "      <td>2</td>\n",
       "      <td>26</td>\n",
       "      <td>4</td>\n",
       "      <td>13</td>\n",
       "      <td>22</td>\n",
       "      <td>7</td>\n",
       "      <td>123</td>\n",
       "      <td>20.00000</td>\n",
       "      <td>1</td>\n",
       "    </tr>\n",
       "  </tbody>\n",
       "</table>\n",
       "</div>"
      ],
      "text/plain": [
       "           ID  usd_goal_real  diff_days  deadline_year  deadline_month  \\\n",
       "0  1000002330     1533.95000         59           2015              10   \n",
       "1  1000003930    30000.00000         60           2017              11   \n",
       "2  1000004038    45000.00000         45           2013               2   \n",
       "3  1000007540     5000.00000         30           2012               4   \n",
       "5  1000014025    50000.00000         35           2016               4   \n",
       "\n",
       "   deadline_day  deadline_weekday  launched_year  launched_month  \\\n",
       "0             9                 4           2015               8   \n",
       "1             1                 2           2017               9   \n",
       "2            26                 1           2013               1   \n",
       "3            16                 0           2012               3   \n",
       "5             1                 4           2016               2   \n",
       "\n",
       "   launched_day  launched_weekday  launched_hour  country_recoded  \\\n",
       "0            11                 1             12                9   \n",
       "1             2                 5              4               22   \n",
       "2            12                 5              0               22   \n",
       "3            17                 5              3               22   \n",
       "5            26                 4             13               22   \n",
       "\n",
       "   main_category_recoded  subcategory_recoded  name_length  recoded_target  \n",
       "0                     12                  108     31.00000               0  \n",
       "1                      6                   93     45.00000               0  \n",
       "2                      6                   93     14.00000               0  \n",
       "3                     10                   90     49.00000               0  \n",
       "5                      7                  123     20.00000               1  "
      ]
     },
     "execution_count": 27,
     "metadata": {},
     "output_type": "execute_result"
    }
   ],
   "source": [
    "kick1.head()"
   ]
  },
  {
   "cell_type": "code",
   "execution_count": 28,
   "metadata": {},
   "outputs": [],
   "source": [
    "#saving the dataset used for modeling as a csv \n",
    "\n",
    "kick1.to_csv('C:/Users/mayaa/OneDrive/Documents/project_BA/Kickstarter-Project-/kickmodeling.csv', index = None)"
   ]
  },
  {
   "cell_type": "markdown",
   "metadata": {},
   "source": [
    "## Generating Random Datasets to Reduce the Size of the Data "
   ]
  },
  {
   "cell_type": "code",
   "execution_count": 29,
   "metadata": {},
   "outputs": [
    {
     "name": "stdout",
     "output_type": "stream",
     "text": [
      "['ID', 'usd_goal_real', 'diff_days', 'deadline_year', 'deadline_month', 'deadline_day', 'deadline_weekday', 'launched_year', 'launched_month', 'launched_day', 'launched_weekday', 'launched_hour', 'country_recoded', 'main_category_recoded', 'subcategory_recoded', 'name_length', 'recoded_target']\n"
     ]
    }
   ],
   "source": [
    "kick1.head()\n",
    "print(list(kick1))"
   ]
  },
  {
   "cell_type": "code",
   "execution_count": 30,
   "metadata": {},
   "outputs": [
    {
     "name": "stdout",
     "output_type": "stream",
     "text": [
      "['ID', 'usd_goal_real', 'diff_days', 'deadline_year', 'deadline_month', 'deadline_day', 'deadline_weekday', 'launched_year', 'launched_month', 'launched_day', 'launched_weekday', 'launched_hour', 'country_recoded', 'main_category_recoded', 'subcategory_recoded', 'name_length', 'recoded_target']\n"
     ]
    }
   ],
   "source": [
    "# Retrieve features/attributes of dataset\n",
    "print(list(kick1))\n",
    "X = kick1.iloc[:, 1:16]\n",
    "\n",
    "# Retrieve target variable of dataset\n",
    "y = kick1.iloc[:,16]\n",
    "\n",
    "\n"
   ]
  },
  {
   "cell_type": "code",
   "execution_count": 31,
   "metadata": {},
   "outputs": [
    {
     "name": "stdout",
     "output_type": "stream",
     "text": [
      "Labels counts in y: [197719 133956]\n"
     ]
    }
   ],
   "source": [
    "#checking class balance for the full dataset (to be used for modeling)\n",
    "print('Labels counts in y:', np.bincount(y))"
   ]
  },
  {
   "cell_type": "markdown",
   "metadata": {},
   "source": [
    "#### 10k, 15k, 20k, 30k "
   ]
  },
  {
   "cell_type": "code",
   "execution_count": null,
   "metadata": {},
   "outputs": [],
   "source": [
    "#taking random samples of different datasets, checking the balance and saving it as a different dataframe to use for modeling \n",
    "#kick10k = kick1.sample(n=10000, axis = 0) \n",
    "#y1 = kick10k.iloc[:,15]\n",
    "#print('Labels counts in y:', np.bincount(y1))\n",
    "#Labels counts in y: [5953 4047] -> pretty balanced "
   ]
  },
  {
   "cell_type": "code",
   "execution_count": null,
   "metadata": {},
   "outputs": [],
   "source": [
    "#kick10k.to_csv('C:/Users/mayaa/OneDrive/Documents/project_BA/Kickstarter-Project-/kick10k.csv', index = None)"
   ]
  },
  {
   "cell_type": "code",
   "execution_count": null,
   "metadata": {},
   "outputs": [],
   "source": [
    "#taking random samples of different datasets, checking the balance and saving it as a different dataframe to use for modeling \n",
    "#kick15k = kick1.sample(n=15000, axis = 0) \n",
    "#y2 = kick15k.iloc[:,15]\n",
    "#print('Labels counts in y:', np.bincount(y2))\n",
    "#Labels counts in y: [8839 6161] -> pretty balanced "
   ]
  },
  {
   "cell_type": "code",
   "execution_count": null,
   "metadata": {},
   "outputs": [],
   "source": [
    "#kick15k.to_csv('C:/Users/mayaa/OneDrive/Documents/project_BA/Kickstarter-Project-/kick15k.csv', index = None)"
   ]
  },
  {
   "cell_type": "code",
   "execution_count": null,
   "metadata": {},
   "outputs": [],
   "source": [
    "#taking random samples of different datasets, checking the balance and saving it as a different dataframe to use for modeling \n",
    "#kick20k = kick1.sample(n=20000, axis = 0) \n",
    "#y3 = kick20k.iloc[:,15]\n",
    "print('Labels counts in y:', np.bincount(y3))\n",
    "#Labels counts in y: [11871  8129] -> pretty balanced "
   ]
  },
  {
   "cell_type": "code",
   "execution_count": null,
   "metadata": {},
   "outputs": [],
   "source": [
    "#kick20k.to_csv('C:/Users/mayaa/OneDrive/Documents/project_BA/Kickstarter-Project-/kick20k.csv', index = None)"
   ]
  },
  {
   "cell_type": "code",
   "execution_count": null,
   "metadata": {},
   "outputs": [],
   "source": [
    "#taking random samples of different datasets, checking the balance and saving it as a different dataframe to use for modeling \n",
    "#kick30k = kick1.sample(n=30000,axis = 0) \n",
    "#y4 = kick30k.iloc[:,15]\n",
    "print('Labels counts in y:', np.bincount(y4))\n",
    "#Labels counts in y: [17767 12233] -> pretty balanced "
   ]
  },
  {
   "cell_type": "code",
   "execution_count": null,
   "metadata": {},
   "outputs": [],
   "source": [
    "#kick30k.to_csv('C:/Users/mayaa/OneDrive/Documents/project_BA/Kickstarter-Project-/kick30k.csv', index = None)"
   ]
  },
  {
   "cell_type": "code",
   "execution_count": null,
   "metadata": {},
   "outputs": [],
   "source": [
    "#taking random samples of different datasets, checking the balance and saving it as a different dataframe to use for modeling \n",
    "\n",
    "#kick10kv2 = kick1.sample(n=10000, axis = 0) \n",
    "#y5 = kick10kv2.iloc[:,15]\n",
    "#print('Labels counts in y:', np.bincount(y5))\n",
    "#Labels counts in y: [5932 4068]\n",
    "#kick10kv2.to_csv('C:/Users/mayaa/OneDrive/Documents/project_BA/Kickstarter-Project-/kick10kv2.csv', index = None)"
   ]
  },
  {
   "cell_type": "code",
   "execution_count": null,
   "metadata": {},
   "outputs": [],
   "source": [
    "#kick20kv2 = kick1.sample(n=20000, axis = 0) \n",
    "#y6 = kick20kv2.iloc[:,15]\n",
    "#print('Labels counts in y:', np.bincount(y6))"
   ]
  },
  {
   "cell_type": "code",
   "execution_count": null,
   "metadata": {},
   "outputs": [],
   "source": [
    "#kick20kv2.to_csv('C:/Users/mayaa/OneDrive/Documents/project_BA/Kickstarter-Project-/kick20kv2.csv', index = None)"
   ]
  },
  {
   "cell_type": "code",
   "execution_count": null,
   "metadata": {},
   "outputs": [],
   "source": [
    "#kick25kv2 = kick1.sample(n=25000, axis = 0) \n",
    "#y7 = kick20kv2.iloc[:,15]\n",
    "#print('Labels counts in y:', np.bincount(y7))"
   ]
  },
  {
   "cell_type": "code",
   "execution_count": null,
   "metadata": {},
   "outputs": [],
   "source": [
    "#kick25kv2.to_csv('C:/Users/mayaa/OneDrive/Documents/project_BA/Kickstarter-Project-/kick25kv2.csv', index = None)"
   ]
  },
  {
   "cell_type": "code",
   "execution_count": 32,
   "metadata": {},
   "outputs": [],
   "source": [
    "#kick1.to_csv('C:/Users/mayaa/OneDrive/Documents/project_BA/Kickstarter-Project-/kick1.csv', index = None)"
   ]
  },
  {
   "cell_type": "code",
   "execution_count": 53,
   "metadata": {},
   "outputs": [
    {
     "name": "stdout",
     "output_type": "stream",
     "text": [
      "Labels counts in y: [11852  8148]\n"
     ]
    }
   ],
   "source": [
    "kick20k_new = kick1.sample(n=20000,axis = 0) \n",
    "y8 = kick20k_new.iloc[:,16]\n",
    "print('Labels counts in y:', np.bincount(y8))"
   ]
  },
  {
   "cell_type": "code",
   "execution_count": 55,
   "metadata": {},
   "outputs": [
    {
     "data": {
      "text/html": [
       "<div>\n",
       "<style scoped>\n",
       "    .dataframe tbody tr th:only-of-type {\n",
       "        vertical-align: middle;\n",
       "    }\n",
       "\n",
       "    .dataframe tbody tr th {\n",
       "        vertical-align: top;\n",
       "    }\n",
       "\n",
       "    .dataframe thead th {\n",
       "        text-align: right;\n",
       "    }\n",
       "</style>\n",
       "<table border=\"1\" class=\"dataframe\">\n",
       "  <thead>\n",
       "    <tr style=\"text-align: right;\">\n",
       "      <th></th>\n",
       "      <th>ID</th>\n",
       "      <th>usd_goal_real</th>\n",
       "      <th>diff_days</th>\n",
       "      <th>deadline_year</th>\n",
       "      <th>deadline_month</th>\n",
       "      <th>deadline_day</th>\n",
       "      <th>deadline_weekday</th>\n",
       "      <th>launched_year</th>\n",
       "      <th>launched_month</th>\n",
       "      <th>launched_day</th>\n",
       "      <th>launched_weekday</th>\n",
       "      <th>launched_hour</th>\n",
       "      <th>country_recoded</th>\n",
       "      <th>main_category_recoded</th>\n",
       "      <th>subcategory_recoded</th>\n",
       "      <th>name_length</th>\n",
       "      <th>recoded_target</th>\n",
       "    </tr>\n",
       "  </thead>\n",
       "  <tbody>\n",
       "    <tr>\n",
       "      <th>378654</th>\n",
       "      <td>999975836</td>\n",
       "      <td>6500.00000</td>\n",
       "      <td>30</td>\n",
       "      <td>2017</td>\n",
       "      <td>4</td>\n",
       "      <td>19</td>\n",
       "      <td>2</td>\n",
       "      <td>2017</td>\n",
       "      <td>3</td>\n",
       "      <td>20</td>\n",
       "      <td>0</td>\n",
       "      <td>22</td>\n",
       "      <td>22</td>\n",
       "      <td>7</td>\n",
       "      <td>130</td>\n",
       "      <td>37.00000</td>\n",
       "      <td>0</td>\n",
       "    </tr>\n",
       "    <tr>\n",
       "      <th>378657</th>\n",
       "      <td>999977640</td>\n",
       "      <td>1500.00000</td>\n",
       "      <td>27</td>\n",
       "      <td>2011</td>\n",
       "      <td>7</td>\n",
       "      <td>19</td>\n",
       "      <td>1</td>\n",
       "      <td>2011</td>\n",
       "      <td>6</td>\n",
       "      <td>22</td>\n",
       "      <td>2</td>\n",
       "      <td>3</td>\n",
       "      <td>22</td>\n",
       "      <td>6</td>\n",
       "      <td>93</td>\n",
       "      <td>9.00000</td>\n",
       "      <td>0</td>\n",
       "    </tr>\n",
       "    <tr>\n",
       "      <th>378658</th>\n",
       "      <td>999986353</td>\n",
       "      <td>15000.00000</td>\n",
       "      <td>46</td>\n",
       "      <td>2010</td>\n",
       "      <td>8</td>\n",
       "      <td>16</td>\n",
       "      <td>0</td>\n",
       "      <td>2010</td>\n",
       "      <td>7</td>\n",
       "      <td>1</td>\n",
       "      <td>3</td>\n",
       "      <td>19</td>\n",
       "      <td>22</td>\n",
       "      <td>6</td>\n",
       "      <td>93</td>\n",
       "      <td>71.00000</td>\n",
       "      <td>0</td>\n",
       "    </tr>\n",
       "    <tr>\n",
       "      <th>378659</th>\n",
       "      <td>999987933</td>\n",
       "      <td>15000.00000</td>\n",
       "      <td>31</td>\n",
       "      <td>2016</td>\n",
       "      <td>2</td>\n",
       "      <td>13</td>\n",
       "      <td>5</td>\n",
       "      <td>2016</td>\n",
       "      <td>1</td>\n",
       "      <td>13</td>\n",
       "      <td>2</td>\n",
       "      <td>18</td>\n",
       "      <td>22</td>\n",
       "      <td>13</td>\n",
       "      <td>138</td>\n",
       "      <td>24.00000</td>\n",
       "      <td>0</td>\n",
       "    </tr>\n",
       "    <tr>\n",
       "      <th>378660</th>\n",
       "      <td>999988282</td>\n",
       "      <td>2000.00000</td>\n",
       "      <td>28</td>\n",
       "      <td>2011</td>\n",
       "      <td>8</td>\n",
       "      <td>16</td>\n",
       "      <td>1</td>\n",
       "      <td>2011</td>\n",
       "      <td>7</td>\n",
       "      <td>19</td>\n",
       "      <td>1</td>\n",
       "      <td>9</td>\n",
       "      <td>22</td>\n",
       "      <td>0</td>\n",
       "      <td>98</td>\n",
       "      <td>33.00000</td>\n",
       "      <td>0</td>\n",
       "    </tr>\n",
       "  </tbody>\n",
       "</table>\n",
       "</div>"
      ],
      "text/plain": [
       "               ID  usd_goal_real  diff_days  deadline_year  deadline_month  \\\n",
       "378654  999975836     6500.00000         30           2017               4   \n",
       "378657  999977640     1500.00000         27           2011               7   \n",
       "378658  999986353    15000.00000         46           2010               8   \n",
       "378659  999987933    15000.00000         31           2016               2   \n",
       "378660  999988282     2000.00000         28           2011               8   \n",
       "\n",
       "        deadline_day  deadline_weekday  launched_year  launched_month  \\\n",
       "378654            19                 2           2017               3   \n",
       "378657            19                 1           2011               6   \n",
       "378658            16                 0           2010               7   \n",
       "378659            13                 5           2016               1   \n",
       "378660            16                 1           2011               7   \n",
       "\n",
       "        launched_day  launched_weekday  launched_hour  country_recoded  \\\n",
       "378654            20                 0             22               22   \n",
       "378657            22                 2              3               22   \n",
       "378658             1                 3             19               22   \n",
       "378659            13                 2             18               22   \n",
       "378660            19                 1              9               22   \n",
       "\n",
       "        main_category_recoded  subcategory_recoded  name_length  \\\n",
       "378654                      7                  130     37.00000   \n",
       "378657                      6                   93      9.00000   \n",
       "378658                      6                   93     71.00000   \n",
       "378659                     13                  138     24.00000   \n",
       "378660                      0                   98     33.00000   \n",
       "\n",
       "        recoded_target  \n",
       "378654               0  \n",
       "378657               0  \n",
       "378658               0  \n",
       "378659               0  \n",
       "378660               0  "
      ]
     },
     "execution_count": 55,
     "metadata": {},
     "output_type": "execute_result"
    }
   ],
   "source": [
    "kick1.tail()"
   ]
  },
  {
   "cell_type": "code",
   "execution_count": 54,
   "metadata": {},
   "outputs": [],
   "source": [
    "kick20k_new.to_csv('C:/Users/mayaa/OneDrive/Documents/project_BA/Kickstarter-Project-/kick20k_new.csv', index = None)"
   ]
  },
  {
   "cell_type": "markdown",
   "metadata": {},
   "source": [
    "### Visualizations "
   ]
  },
  {
   "cell_type": "code",
   "execution_count": 34,
   "metadata": {},
   "outputs": [],
   "source": [
    "ks = pd.read_csv('C:/Users/mayaa/OneDrive/Documents/project_BA/Kickstarter-Project-/kickmodeling.csv')\n",
    "kick_fin = ks = pd.read_csv('C:/Users/mayaa/OneDrive/Documents/project_BA/Kickstarter-Project-/kick_final.csv')"
   ]
  },
  {
   "cell_type": "code",
   "execution_count": 44,
   "metadata": {},
   "outputs": [
    {
     "name": "stdout",
     "output_type": "stream",
     "text": [
      "['ID', 'name', 'category', 'main_category', 'currency', 'deadline', 'goal', 'launched', 'pledged', 'state', 'backers', 'country', 'usd pledged', 'usd_pledged_real', 'usd_goal_real', 'deadline_date', 'launched_date', 'diff_days', 'deadline_year', 'deadline_month', 'deadline_day', 'deadline_weekday', 'launched_year', 'launched_month', 'launched_day', 'launched_weekday', 'launched_hour', 'country_recoded', 'main_category_recoded', 'subcategory_recoded', 'name_length', 'recoded_target']\n"
     ]
    }
   ],
   "source": [
    "\n",
    "ks = ks.dropna()\n",
    "\n",
    "ks['name_length']=ks['name_length'].round(1)\n",
    "ks.head()\n",
    "\n",
    "kick_fin = ks.dropna()\n",
    "\n",
    "kick_fin['name_length']=kick_fin['name_length'].round(1)\n",
    "kick_fin.head()\n",
    "print(list(kick_fin))\n"
   ]
  },
  {
   "cell_type": "code",
   "execution_count": 36,
   "metadata": {},
   "outputs": [
    {
     "data": {
      "text/plain": [
       "<matplotlib.axes._subplots.AxesSubplot at 0x24aefbfc0c8>"
      ]
     },
     "execution_count": 36,
     "metadata": {},
     "output_type": "execute_result"
    },
    {
     "data": {
      "image/png": "[encoded data removed]",
      "text/plain": [
       "<Figure size 432x288 with 1 Axes>"
      ]
     },
     "metadata": {
      "needs_background": "light"
     },
     "output_type": "display_data"
    }
   ],
   "source": [
    "sns.countplot(x=\"launched_weekday\",hue=\"recoded_target\", data = kick_fin)"
   ]
  },
  {
   "cell_type": "code",
   "execution_count": 37,
   "metadata": {},
   "outputs": [
    {
     "data": {
      "text/plain": [
       "<matplotlib.axes._subplots.AxesSubplot at 0x24a83629a08>"
      ]
     },
     "execution_count": 37,
     "metadata": {},
     "output_type": "execute_result"
    },
    {
     "data": {
      "image/png": "[encoded data removed]",
      "text/plain": [
       "<Figure size 432x288 with 1 Axes>"
      ]
     },
     "metadata": {
      "needs_background": "light"
     },
     "output_type": "display_data"
    }
   ],
   "source": [
    "sns.countplot(x=\"deadline_weekday\",hue=\"recoded_target\", data = kick_fin)"
   ]
  },
  {
   "cell_type": "code",
   "execution_count": 38,
   "metadata": {},
   "outputs": [
    {
     "data": {
      "text/plain": [
       "<matplotlib.axes._subplots.AxesSubplot at 0x24aee0fdbc8>"
      ]
     },
     "execution_count": 38,
     "metadata": {},
     "output_type": "execute_result"
    },
    {
     "data": {
      "image/png": "[encoded data removed]",
      "text/plain": [
       "<Figure size 432x288 with 1 Axes>"
      ]
     },
     "metadata": {
      "needs_background": "light"
     },
     "output_type": "display_data"
    }
   ],
   "source": [
    "sns.countplot(x=\"launched_hour\",hue=\"recoded_target\", data = kick_fin)"
   ]
  },
  {
   "cell_type": "code",
   "execution_count": 43,
   "metadata": {},
   "outputs": [
    {
     "data": {
      "text/plain": [
       "<matplotlib.axes._subplots.AxesSubplot at 0x25233c987c8>"
      ]
     },
     "execution_count": 43,
     "metadata": {},
     "output_type": "execute_result"
    },
    {
     "data": {
      "image/png": "[encoded data removed]",
      "text/plain": [
       "<Figure size 432x288 with 1 Axes>"
      ]
     },
     "metadata": {
      "needs_background": "light"
     },
     "output_type": "display_data"
    }
   ],
   "source": [
    "sns.countplot(y=\"main_category\",hue=\"recoded_target\", data = kick_fin)"
   ]
  },
  {
   "cell_type": "code",
   "execution_count": 46,
   "metadata": {},
   "outputs": [
    {
     "data": {
      "text/plain": [
       "<matplotlib.axes._subplots.AxesSubplot at 0x24a83cb7508>"
      ]
     },
     "execution_count": 46,
     "metadata": {},
     "output_type": "execute_result"
    },
    {
     "data": {
      "image/png": "[encoded data removed]",
      "text/plain": [
       "<Figure size 432x288 with 1 Axes>"
      ]
     },
     "metadata": {
      "needs_background": "light"
     },
     "output_type": "display_data"
    }
   ],
   "source": [
    "sns.scatterplot(data=kick_fin, x=\"usd_pledged_real\", y = \"name_length\", hue = \"recoded_target\") "
   ]
  }
 ],
 "metadata": {
  "kernelspec": {
   "display_name": "Python 3",
   "language": "python",
   "name": "python3"
  },
  "language_info": {
   "codemirror_mode": {
    "name": "ipython",
    "version": 3
   },
   "file_extension": ".py",
   "mimetype": "text/x-python",
   "name": "python",
   "nbconvert_exporter": "python",
   "pygments_lexer": "ipython3",
   "version": "3.7.6"
  }
 },
 "nbformat": 4,
 "nbformat_minor": 4
}
